{
 "cells": [
  {
   "cell_type": "markdown",
   "id": "4e19aa9b",
   "metadata": {},
   "source": [
    "#About Dataset:\n",
    "--------------------------\n",
    "The sales in the mega marts are critical to make them sustainable. As a matter of fact, the rise of several marts have created buyers of different categories which are critical about quality of product at the right price. \n",
    "\n",
    "In the Data Analytics Championship 2021, the data science & machine learning community has been challenged to build an ML model and predict the sales of each product from each outlet. The participants also need to use the model to analyse the properties of the product in the stores and find ways to increase sales.\n",
    "\n",
    "#Data attributes: \n",
    "---------------------------\n",
    "Item_ID: Item Identification Number <br>\n",
    "Item_W: Item Weight<br>\n",
    "Item_Type: Item<br>\n",
    "Item_MRP: MRP of the Product<br>\n",
    "Outlet_ID: Outlet ID<br>\n",
    "Outlet_Year: Outlet Establishment year<br>\n",
    "Outlet_Size: Size of the outlet<br>\n",
    "Outlet_Type: Type of the outlet<br>\n",
    "Sales: Total sales from the outlet.<br>\n",
    "\n",
    "'Train: 87864 rows x 09 columns\n",
    "\n",
    "'Test: 37656 rows x 09 columns\n",
    "\n",
    "Objective\n",
    "--------------\n",
    "*To Predict the sales of each product from each outlet <br>\n",
    "\n",
    "*How to increase the sales in Product"
   ]
  },
  {
   "cell_type": "code",
   "execution_count": 1,
   "id": "d91b990e",
   "metadata": {},
   "outputs": [],
   "source": [
    "import pandas as pd\n",
    "import numpy as np\n",
    "import seaborn as sns\n",
    "from sklearn.preprocessing import StandardScaler\n",
    "import matplotlib.pyplot as plt\n",
    "from sklearn.metrics import mean_squared_error,r2_score,mean_absolute_error\n",
    "from sklearn.linear_model import LinearRegression, Ridge, Lasso, ElasticNet\n",
    "from sklearn.neighbors import KNeighborsRegressor\n",
    "from sklearn.pipeline import Pipeline\n",
    "from sklearn.impute import SimpleImputer\n",
    "from sklearn.preprocessing import LabelEncoder, OrdinalEncoder, StandardScaler\n",
    "from sklearn.compose import ColumnTransformer\n",
    "\n",
    "import joblib"
   ]
  },
  {
   "cell_type": "code",
   "execution_count": 2,
   "id": "ac9788f1",
   "metadata": {},
   "outputs": [],
   "source": [
    "train=pd.read_csv(\"train.csv\")\n",
    "test=pd.read_csv(\"test.csv\")\n",
    "submission=pd.read_csv(\"submission.csv\")"
   ]
  },
  {
   "cell_type": "code",
   "execution_count": 3,
   "id": "fbc6a786",
   "metadata": {},
   "outputs": [
    {
     "data": {
      "text/html": [
       "<div>\n",
       "<style scoped>\n",
       "    .dataframe tbody tr th:only-of-type {\n",
       "        vertical-align: middle;\n",
       "    }\n",
       "\n",
       "    .dataframe tbody tr th {\n",
       "        vertical-align: top;\n",
       "    }\n",
       "\n",
       "    .dataframe thead th {\n",
       "        text-align: right;\n",
       "    }\n",
       "</style>\n",
       "<table border=\"1\" class=\"dataframe\">\n",
       "  <thead>\n",
       "    <tr style=\"text-align: right;\">\n",
       "      <th></th>\n",
       "      <th>Item_ID</th>\n",
       "      <th>Item_W</th>\n",
       "      <th>Item_Type</th>\n",
       "      <th>Item_MRP</th>\n",
       "      <th>Outlet_ID</th>\n",
       "      <th>Outlet_Year</th>\n",
       "      <th>Outlet_Size</th>\n",
       "      <th>Outlet_Location_Type</th>\n",
       "      <th>Sales</th>\n",
       "    </tr>\n",
       "  </thead>\n",
       "  <tbody>\n",
       "    <tr>\n",
       "      <th>0</th>\n",
       "      <td>FDU32</td>\n",
       "      <td>21.027499</td>\n",
       "      <td>Baking Goods</td>\n",
       "      <td>197.352319</td>\n",
       "      <td>OUT046</td>\n",
       "      <td>2004</td>\n",
       "      <td>Small</td>\n",
       "      <td>Tier 2</td>\n",
       "      <td>2689.457781</td>\n",
       "    </tr>\n",
       "    <tr>\n",
       "      <th>1</th>\n",
       "      <td>NCT54</td>\n",
       "      <td>21.102371</td>\n",
       "      <td>Meat</td>\n",
       "      <td>148.250214</td>\n",
       "      <td>OUT035</td>\n",
       "      <td>1987</td>\n",
       "      <td>Small</td>\n",
       "      <td>Tier 1</td>\n",
       "      <td>3437.350375</td>\n",
       "    </tr>\n",
       "    <tr>\n",
       "      <th>2</th>\n",
       "      <td>FDW08</td>\n",
       "      <td>20.882263</td>\n",
       "      <td>Hard Drinks</td>\n",
       "      <td>205.465010</td>\n",
       "      <td>OUT035</td>\n",
       "      <td>1999</td>\n",
       "      <td>Small</td>\n",
       "      <td>Tier 3</td>\n",
       "      <td>3129.967268</td>\n",
       "    </tr>\n",
       "    <tr>\n",
       "      <th>3</th>\n",
       "      <td>FDJ22</td>\n",
       "      <td>21.050435</td>\n",
       "      <td>Starchy Foods</td>\n",
       "      <td>253.417583</td>\n",
       "      <td>OUT046</td>\n",
       "      <td>1996</td>\n",
       "      <td>Small</td>\n",
       "      <td>Tier 1</td>\n",
       "      <td>1306.514376</td>\n",
       "    </tr>\n",
       "    <tr>\n",
       "      <th>4</th>\n",
       "      <td>FDF47</td>\n",
       "      <td>21.247876</td>\n",
       "      <td>Baking Goods</td>\n",
       "      <td>240.871039</td>\n",
       "      <td>OUT035</td>\n",
       "      <td>1988</td>\n",
       "      <td>Small</td>\n",
       "      <td>Tier 3</td>\n",
       "      <td>1739.769829</td>\n",
       "    </tr>\n",
       "    <tr>\n",
       "      <th>...</th>\n",
       "      <td>...</td>\n",
       "      <td>...</td>\n",
       "      <td>...</td>\n",
       "      <td>...</td>\n",
       "      <td>...</td>\n",
       "      <td>...</td>\n",
       "      <td>...</td>\n",
       "      <td>...</td>\n",
       "      <td>...</td>\n",
       "    </tr>\n",
       "    <tr>\n",
       "      <th>87859</th>\n",
       "      <td>FDG24</td>\n",
       "      <td>9.994412</td>\n",
       "      <td>Breakfast</td>\n",
       "      <td>147.389893</td>\n",
       "      <td>OUT035</td>\n",
       "      <td>1987</td>\n",
       "      <td>Medium</td>\n",
       "      <td>Tier 3</td>\n",
       "      <td>4975.646052</td>\n",
       "    </tr>\n",
       "    <tr>\n",
       "      <th>87860</th>\n",
       "      <td>FDA32</td>\n",
       "      <td>11.259252</td>\n",
       "      <td>Canned</td>\n",
       "      <td>127.965666</td>\n",
       "      <td>OUT049</td>\n",
       "      <td>1987</td>\n",
       "      <td>Medium</td>\n",
       "      <td>Tier 2</td>\n",
       "      <td>2252.492755</td>\n",
       "    </tr>\n",
       "    <tr>\n",
       "      <th>87861</th>\n",
       "      <td>FDM04</td>\n",
       "      <td>11.385812</td>\n",
       "      <td>Household</td>\n",
       "      <td>119.028901</td>\n",
       "      <td>OUT018</td>\n",
       "      <td>1997</td>\n",
       "      <td>Medium</td>\n",
       "      <td>Tier 1</td>\n",
       "      <td>2716.058050</td>\n",
       "    </tr>\n",
       "    <tr>\n",
       "      <th>87862</th>\n",
       "      <td>NCS18</td>\n",
       "      <td>18.018028</td>\n",
       "      <td>Household</td>\n",
       "      <td>223.416318</td>\n",
       "      <td>OUT018</td>\n",
       "      <td>1988</td>\n",
       "      <td>Medium</td>\n",
       "      <td>Tier 3</td>\n",
       "      <td>991.857233</td>\n",
       "    </tr>\n",
       "    <tr>\n",
       "      <th>87863</th>\n",
       "      <td>FDQ11</td>\n",
       "      <td>17.130290</td>\n",
       "      <td>Snack Foods</td>\n",
       "      <td>143.232048</td>\n",
       "      <td>OUT013</td>\n",
       "      <td>1997</td>\n",
       "      <td>Medium</td>\n",
       "      <td>Tier 3</td>\n",
       "      <td>4260.617470</td>\n",
       "    </tr>\n",
       "  </tbody>\n",
       "</table>\n",
       "<p>87864 rows × 9 columns</p>\n",
       "</div>"
      ],
      "text/plain": [
       "      Item_ID     Item_W      Item_Type    Item_MRP Outlet_ID  Outlet_Year  \\\n",
       "0       FDU32  21.027499   Baking Goods  197.352319    OUT046         2004   \n",
       "1       NCT54  21.102371           Meat  148.250214    OUT035         1987   \n",
       "2       FDW08  20.882263    Hard Drinks  205.465010    OUT035         1999   \n",
       "3       FDJ22  21.050435  Starchy Foods  253.417583    OUT046         1996   \n",
       "4       FDF47  21.247876   Baking Goods  240.871039    OUT035         1988   \n",
       "...       ...        ...            ...         ...       ...          ...   \n",
       "87859   FDG24   9.994412      Breakfast  147.389893    OUT035         1987   \n",
       "87860   FDA32  11.259252         Canned  127.965666    OUT049         1987   \n",
       "87861   FDM04  11.385812      Household  119.028901    OUT018         1997   \n",
       "87862   NCS18  18.018028      Household  223.416318    OUT018         1988   \n",
       "87863   FDQ11  17.130290    Snack Foods  143.232048    OUT013         1997   \n",
       "\n",
       "      Outlet_Size Outlet_Location_Type        Sales  \n",
       "0           Small               Tier 2  2689.457781  \n",
       "1           Small               Tier 1  3437.350375  \n",
       "2           Small               Tier 3  3129.967268  \n",
       "3           Small               Tier 1  1306.514376  \n",
       "4           Small               Tier 3  1739.769829  \n",
       "...           ...                  ...          ...  \n",
       "87859      Medium               Tier 3  4975.646052  \n",
       "87860      Medium               Tier 2  2252.492755  \n",
       "87861      Medium               Tier 1  2716.058050  \n",
       "87862      Medium               Tier 3   991.857233  \n",
       "87863      Medium               Tier 3  4260.617470  \n",
       "\n",
       "[87864 rows x 9 columns]"
      ]
     },
     "execution_count": 3,
     "metadata": {},
     "output_type": "execute_result"
    }
   ],
   "source": [
    "train\n"
   ]
  },
  {
   "cell_type": "code",
   "execution_count": 4,
   "id": "7baa0c3b",
   "metadata": {},
   "outputs": [
    {
     "data": {
      "text/html": [
       "<div>\n",
       "<style scoped>\n",
       "    .dataframe tbody tr th:only-of-type {\n",
       "        vertical-align: middle;\n",
       "    }\n",
       "\n",
       "    .dataframe tbody tr th {\n",
       "        vertical-align: top;\n",
       "    }\n",
       "\n",
       "    .dataframe thead th {\n",
       "        text-align: right;\n",
       "    }\n",
       "</style>\n",
       "<table border=\"1\" class=\"dataframe\">\n",
       "  <thead>\n",
       "    <tr style=\"text-align: right;\">\n",
       "      <th></th>\n",
       "      <th>Item_ID</th>\n",
       "      <th>Item_W</th>\n",
       "      <th>Item_Type</th>\n",
       "      <th>Item_MRP</th>\n",
       "      <th>Outlet_ID</th>\n",
       "      <th>Outlet_Year</th>\n",
       "      <th>Outlet_Size</th>\n",
       "      <th>Outlet_Location_Type</th>\n",
       "    </tr>\n",
       "  </thead>\n",
       "  <tbody>\n",
       "    <tr>\n",
       "      <th>0</th>\n",
       "      <td>DRM23</td>\n",
       "      <td>10.156725</td>\n",
       "      <td>Snack Foods</td>\n",
       "      <td>119.319482</td>\n",
       "      <td>OUT013</td>\n",
       "      <td>1999</td>\n",
       "      <td>High</td>\n",
       "      <td>Tier 3</td>\n",
       "    </tr>\n",
       "    <tr>\n",
       "      <th>1</th>\n",
       "      <td>FDG47</td>\n",
       "      <td>10.434425</td>\n",
       "      <td>Household</td>\n",
       "      <td>263.600449</td>\n",
       "      <td>OUT018</td>\n",
       "      <td>1987</td>\n",
       "      <td>High</td>\n",
       "      <td>Tier 3</td>\n",
       "    </tr>\n",
       "    <tr>\n",
       "      <th>2</th>\n",
       "      <td>FDN21</td>\n",
       "      <td>11.953589</td>\n",
       "      <td>Health and Hygiene</td>\n",
       "      <td>246.286990</td>\n",
       "      <td>OUT018</td>\n",
       "      <td>1997</td>\n",
       "      <td>High</td>\n",
       "      <td>Tier 1</td>\n",
       "    </tr>\n",
       "    <tr>\n",
       "      <th>3</th>\n",
       "      <td>FDZ23</td>\n",
       "      <td>14.948546</td>\n",
       "      <td>Dairy</td>\n",
       "      <td>136.200508</td>\n",
       "      <td>OUT046</td>\n",
       "      <td>2004</td>\n",
       "      <td>Medium</td>\n",
       "      <td>Tier 2</td>\n",
       "    </tr>\n",
       "    <tr>\n",
       "      <th>4</th>\n",
       "      <td>FDC16</td>\n",
       "      <td>11.080042</td>\n",
       "      <td>Canned</td>\n",
       "      <td>173.145664</td>\n",
       "      <td>OUT018</td>\n",
       "      <td>2009</td>\n",
       "      <td>Medium</td>\n",
       "      <td>Tier 3</td>\n",
       "    </tr>\n",
       "    <tr>\n",
       "      <th>...</th>\n",
       "      <td>...</td>\n",
       "      <td>...</td>\n",
       "      <td>...</td>\n",
       "      <td>...</td>\n",
       "      <td>...</td>\n",
       "      <td>...</td>\n",
       "      <td>...</td>\n",
       "      <td>...</td>\n",
       "    </tr>\n",
       "    <tr>\n",
       "      <th>37651</th>\n",
       "      <td>FDY27</td>\n",
       "      <td>6.380000</td>\n",
       "      <td>Dairy</td>\n",
       "      <td>178.334400</td>\n",
       "      <td>OUT018</td>\n",
       "      <td>2009</td>\n",
       "      <td>Medium</td>\n",
       "      <td>Tier 3</td>\n",
       "    </tr>\n",
       "    <tr>\n",
       "      <th>37652</th>\n",
       "      <td>FDK38</td>\n",
       "      <td>6.650000</td>\n",
       "      <td>Canned</td>\n",
       "      <td>150.073400</td>\n",
       "      <td>OUT018</td>\n",
       "      <td>2009</td>\n",
       "      <td>Medium</td>\n",
       "      <td>Tier 3</td>\n",
       "    </tr>\n",
       "    <tr>\n",
       "      <th>37653</th>\n",
       "      <td>DRF01</td>\n",
       "      <td>5.655000</td>\n",
       "      <td>Soft Drinks</td>\n",
       "      <td>147.510200</td>\n",
       "      <td>OUT046</td>\n",
       "      <td>1997</td>\n",
       "      <td>Small</td>\n",
       "      <td>Tier 1</td>\n",
       "    </tr>\n",
       "    <tr>\n",
       "      <th>37654</th>\n",
       "      <td>FDR58</td>\n",
       "      <td>6.675000</td>\n",
       "      <td>Snack Foods</td>\n",
       "      <td>92.946200</td>\n",
       "      <td>OUT018</td>\n",
       "      <td>2009</td>\n",
       "      <td>Medium</td>\n",
       "      <td>Tier 3</td>\n",
       "    </tr>\n",
       "    <tr>\n",
       "      <th>37655</th>\n",
       "      <td>FDS33</td>\n",
       "      <td>6.670000</td>\n",
       "      <td>Snack Foods</td>\n",
       "      <td>90.551400</td>\n",
       "      <td>OUT018</td>\n",
       "      <td>2009</td>\n",
       "      <td>Medium</td>\n",
       "      <td>Tier 3</td>\n",
       "    </tr>\n",
       "  </tbody>\n",
       "</table>\n",
       "<p>37656 rows × 8 columns</p>\n",
       "</div>"
      ],
      "text/plain": [
       "      Item_ID     Item_W           Item_Type    Item_MRP Outlet_ID  \\\n",
       "0       DRM23  10.156725         Snack Foods  119.319482    OUT013   \n",
       "1       FDG47  10.434425           Household  263.600449    OUT018   \n",
       "2       FDN21  11.953589  Health and Hygiene  246.286990    OUT018   \n",
       "3       FDZ23  14.948546               Dairy  136.200508    OUT046   \n",
       "4       FDC16  11.080042              Canned  173.145664    OUT018   \n",
       "...       ...        ...                 ...         ...       ...   \n",
       "37651   FDY27   6.380000               Dairy  178.334400    OUT018   \n",
       "37652   FDK38   6.650000              Canned  150.073400    OUT018   \n",
       "37653   DRF01   5.655000         Soft Drinks  147.510200    OUT046   \n",
       "37654   FDR58   6.675000         Snack Foods   92.946200    OUT018   \n",
       "37655   FDS33   6.670000         Snack Foods   90.551400    OUT018   \n",
       "\n",
       "       Outlet_Year Outlet_Size Outlet_Location_Type  \n",
       "0             1999        High               Tier 3  \n",
       "1             1987        High               Tier 3  \n",
       "2             1997        High               Tier 1  \n",
       "3             2004      Medium               Tier 2  \n",
       "4             2009      Medium               Tier 3  \n",
       "...            ...         ...                  ...  \n",
       "37651         2009      Medium               Tier 3  \n",
       "37652         2009      Medium               Tier 3  \n",
       "37653         1997       Small               Tier 1  \n",
       "37654         2009      Medium               Tier 3  \n",
       "37655         2009      Medium               Tier 3  \n",
       "\n",
       "[37656 rows x 8 columns]"
      ]
     },
     "execution_count": 4,
     "metadata": {},
     "output_type": "execute_result"
    }
   ],
   "source": [
    "test"
   ]
  },
  {
   "cell_type": "code",
   "execution_count": 5,
   "id": "dbfbd032",
   "metadata": {},
   "outputs": [
    {
     "data": {
      "text/html": [
       "<div>\n",
       "<style scoped>\n",
       "    .dataframe tbody tr th:only-of-type {\n",
       "        vertical-align: middle;\n",
       "    }\n",
       "\n",
       "    .dataframe tbody tr th {\n",
       "        vertical-align: top;\n",
       "    }\n",
       "\n",
       "    .dataframe thead th {\n",
       "        text-align: right;\n",
       "    }\n",
       "</style>\n",
       "<table border=\"1\" class=\"dataframe\">\n",
       "  <thead>\n",
       "    <tr style=\"text-align: right;\">\n",
       "      <th></th>\n",
       "      <th>Sales</th>\n",
       "    </tr>\n",
       "  </thead>\n",
       "  <tbody>\n",
       "    <tr>\n",
       "      <th>0</th>\n",
       "      <td>0.0</td>\n",
       "    </tr>\n",
       "    <tr>\n",
       "      <th>1</th>\n",
       "      <td>0.0</td>\n",
       "    </tr>\n",
       "    <tr>\n",
       "      <th>2</th>\n",
       "      <td>0.0</td>\n",
       "    </tr>\n",
       "    <tr>\n",
       "      <th>3</th>\n",
       "      <td>0.0</td>\n",
       "    </tr>\n",
       "    <tr>\n",
       "      <th>4</th>\n",
       "      <td>0.0</td>\n",
       "    </tr>\n",
       "    <tr>\n",
       "      <th>...</th>\n",
       "      <td>...</td>\n",
       "    </tr>\n",
       "    <tr>\n",
       "      <th>37651</th>\n",
       "      <td>0.0</td>\n",
       "    </tr>\n",
       "    <tr>\n",
       "      <th>37652</th>\n",
       "      <td>0.0</td>\n",
       "    </tr>\n",
       "    <tr>\n",
       "      <th>37653</th>\n",
       "      <td>0.0</td>\n",
       "    </tr>\n",
       "    <tr>\n",
       "      <th>37654</th>\n",
       "      <td>0.0</td>\n",
       "    </tr>\n",
       "    <tr>\n",
       "      <th>37655</th>\n",
       "      <td>0.0</td>\n",
       "    </tr>\n",
       "  </tbody>\n",
       "</table>\n",
       "<p>37656 rows × 1 columns</p>\n",
       "</div>"
      ],
      "text/plain": [
       "       Sales\n",
       "0        0.0\n",
       "1        0.0\n",
       "2        0.0\n",
       "3        0.0\n",
       "4        0.0\n",
       "...      ...\n",
       "37651    0.0\n",
       "37652    0.0\n",
       "37653    0.0\n",
       "37654    0.0\n",
       "37655    0.0\n",
       "\n",
       "[37656 rows x 1 columns]"
      ]
     },
     "execution_count": 5,
     "metadata": {},
     "output_type": "execute_result"
    }
   ],
   "source": [
    "submission\n"
   ]
  },
  {
   "cell_type": "code",
   "execution_count": 6,
   "id": "bd424fb5",
   "metadata": {},
   "outputs": [],
   "source": [
    "train[\"data\"]=\"train\"\n",
    "test[\"data\"]=\"test\""
   ]
  },
  {
   "cell_type": "code",
   "execution_count": 7,
   "id": "a89830c9",
   "metadata": {},
   "outputs": [
    {
     "data": {
      "text/html": [
       "<div>\n",
       "<style scoped>\n",
       "    .dataframe tbody tr th:only-of-type {\n",
       "        vertical-align: middle;\n",
       "    }\n",
       "\n",
       "    .dataframe tbody tr th {\n",
       "        vertical-align: top;\n",
       "    }\n",
       "\n",
       "    .dataframe thead th {\n",
       "        text-align: right;\n",
       "    }\n",
       "</style>\n",
       "<table border=\"1\" class=\"dataframe\">\n",
       "  <thead>\n",
       "    <tr style=\"text-align: right;\">\n",
       "      <th></th>\n",
       "      <th>Item_ID</th>\n",
       "      <th>Item_W</th>\n",
       "      <th>Item_Type</th>\n",
       "      <th>Item_MRP</th>\n",
       "      <th>Outlet_ID</th>\n",
       "      <th>Outlet_Year</th>\n",
       "      <th>Outlet_Size</th>\n",
       "      <th>Outlet_Location_Type</th>\n",
       "      <th>Sales</th>\n",
       "      <th>data</th>\n",
       "    </tr>\n",
       "  </thead>\n",
       "  <tbody>\n",
       "    <tr>\n",
       "      <th>0</th>\n",
       "      <td>FDU32</td>\n",
       "      <td>21.027499</td>\n",
       "      <td>Baking Goods</td>\n",
       "      <td>197.352319</td>\n",
       "      <td>OUT046</td>\n",
       "      <td>2004</td>\n",
       "      <td>Small</td>\n",
       "      <td>Tier 2</td>\n",
       "      <td>2689.457781</td>\n",
       "      <td>train</td>\n",
       "    </tr>\n",
       "    <tr>\n",
       "      <th>1</th>\n",
       "      <td>NCT54</td>\n",
       "      <td>21.102371</td>\n",
       "      <td>Meat</td>\n",
       "      <td>148.250214</td>\n",
       "      <td>OUT035</td>\n",
       "      <td>1987</td>\n",
       "      <td>Small</td>\n",
       "      <td>Tier 1</td>\n",
       "      <td>3437.350375</td>\n",
       "      <td>train</td>\n",
       "    </tr>\n",
       "    <tr>\n",
       "      <th>2</th>\n",
       "      <td>FDW08</td>\n",
       "      <td>20.882263</td>\n",
       "      <td>Hard Drinks</td>\n",
       "      <td>205.465010</td>\n",
       "      <td>OUT035</td>\n",
       "      <td>1999</td>\n",
       "      <td>Small</td>\n",
       "      <td>Tier 3</td>\n",
       "      <td>3129.967268</td>\n",
       "      <td>train</td>\n",
       "    </tr>\n",
       "    <tr>\n",
       "      <th>3</th>\n",
       "      <td>FDJ22</td>\n",
       "      <td>21.050435</td>\n",
       "      <td>Starchy Foods</td>\n",
       "      <td>253.417583</td>\n",
       "      <td>OUT046</td>\n",
       "      <td>1996</td>\n",
       "      <td>Small</td>\n",
       "      <td>Tier 1</td>\n",
       "      <td>1306.514376</td>\n",
       "      <td>train</td>\n",
       "    </tr>\n",
       "    <tr>\n",
       "      <th>4</th>\n",
       "      <td>FDF47</td>\n",
       "      <td>21.247876</td>\n",
       "      <td>Baking Goods</td>\n",
       "      <td>240.871039</td>\n",
       "      <td>OUT035</td>\n",
       "      <td>1988</td>\n",
       "      <td>Small</td>\n",
       "      <td>Tier 3</td>\n",
       "      <td>1739.769829</td>\n",
       "      <td>train</td>\n",
       "    </tr>\n",
       "    <tr>\n",
       "      <th>...</th>\n",
       "      <td>...</td>\n",
       "      <td>...</td>\n",
       "      <td>...</td>\n",
       "      <td>...</td>\n",
       "      <td>...</td>\n",
       "      <td>...</td>\n",
       "      <td>...</td>\n",
       "      <td>...</td>\n",
       "      <td>...</td>\n",
       "      <td>...</td>\n",
       "    </tr>\n",
       "    <tr>\n",
       "      <th>87859</th>\n",
       "      <td>FDG24</td>\n",
       "      <td>9.994412</td>\n",
       "      <td>Breakfast</td>\n",
       "      <td>147.389893</td>\n",
       "      <td>OUT035</td>\n",
       "      <td>1987</td>\n",
       "      <td>Medium</td>\n",
       "      <td>Tier 3</td>\n",
       "      <td>4975.646052</td>\n",
       "      <td>train</td>\n",
       "    </tr>\n",
       "    <tr>\n",
       "      <th>87860</th>\n",
       "      <td>FDA32</td>\n",
       "      <td>11.259252</td>\n",
       "      <td>Canned</td>\n",
       "      <td>127.965666</td>\n",
       "      <td>OUT049</td>\n",
       "      <td>1987</td>\n",
       "      <td>Medium</td>\n",
       "      <td>Tier 2</td>\n",
       "      <td>2252.492755</td>\n",
       "      <td>train</td>\n",
       "    </tr>\n",
       "    <tr>\n",
       "      <th>87861</th>\n",
       "      <td>FDM04</td>\n",
       "      <td>11.385812</td>\n",
       "      <td>Household</td>\n",
       "      <td>119.028901</td>\n",
       "      <td>OUT018</td>\n",
       "      <td>1997</td>\n",
       "      <td>Medium</td>\n",
       "      <td>Tier 1</td>\n",
       "      <td>2716.058050</td>\n",
       "      <td>train</td>\n",
       "    </tr>\n",
       "    <tr>\n",
       "      <th>87862</th>\n",
       "      <td>NCS18</td>\n",
       "      <td>18.018028</td>\n",
       "      <td>Household</td>\n",
       "      <td>223.416318</td>\n",
       "      <td>OUT018</td>\n",
       "      <td>1988</td>\n",
       "      <td>Medium</td>\n",
       "      <td>Tier 3</td>\n",
       "      <td>991.857233</td>\n",
       "      <td>train</td>\n",
       "    </tr>\n",
       "    <tr>\n",
       "      <th>87863</th>\n",
       "      <td>FDQ11</td>\n",
       "      <td>17.130290</td>\n",
       "      <td>Snack Foods</td>\n",
       "      <td>143.232048</td>\n",
       "      <td>OUT013</td>\n",
       "      <td>1997</td>\n",
       "      <td>Medium</td>\n",
       "      <td>Tier 3</td>\n",
       "      <td>4260.617470</td>\n",
       "      <td>train</td>\n",
       "    </tr>\n",
       "  </tbody>\n",
       "</table>\n",
       "<p>87864 rows × 10 columns</p>\n",
       "</div>"
      ],
      "text/plain": [
       "      Item_ID     Item_W      Item_Type    Item_MRP Outlet_ID  Outlet_Year  \\\n",
       "0       FDU32  21.027499   Baking Goods  197.352319    OUT046         2004   \n",
       "1       NCT54  21.102371           Meat  148.250214    OUT035         1987   \n",
       "2       FDW08  20.882263    Hard Drinks  205.465010    OUT035         1999   \n",
       "3       FDJ22  21.050435  Starchy Foods  253.417583    OUT046         1996   \n",
       "4       FDF47  21.247876   Baking Goods  240.871039    OUT035         1988   \n",
       "...       ...        ...            ...         ...       ...          ...   \n",
       "87859   FDG24   9.994412      Breakfast  147.389893    OUT035         1987   \n",
       "87860   FDA32  11.259252         Canned  127.965666    OUT049         1987   \n",
       "87861   FDM04  11.385812      Household  119.028901    OUT018         1997   \n",
       "87862   NCS18  18.018028      Household  223.416318    OUT018         1988   \n",
       "87863   FDQ11  17.130290    Snack Foods  143.232048    OUT013         1997   \n",
       "\n",
       "      Outlet_Size Outlet_Location_Type        Sales   data  \n",
       "0           Small               Tier 2  2689.457781  train  \n",
       "1           Small               Tier 1  3437.350375  train  \n",
       "2           Small               Tier 3  3129.967268  train  \n",
       "3           Small               Tier 1  1306.514376  train  \n",
       "4           Small               Tier 3  1739.769829  train  \n",
       "...           ...                  ...          ...    ...  \n",
       "87859      Medium               Tier 3  4975.646052  train  \n",
       "87860      Medium               Tier 2  2252.492755  train  \n",
       "87861      Medium               Tier 1  2716.058050  train  \n",
       "87862      Medium               Tier 3   991.857233  train  \n",
       "87863      Medium               Tier 3  4260.617470  train  \n",
       "\n",
       "[87864 rows x 10 columns]"
      ]
     },
     "execution_count": 7,
     "metadata": {},
     "output_type": "execute_result"
    }
   ],
   "source": [
    "train\n"
   ]
  },
  {
   "cell_type": "code",
   "execution_count": 8,
   "id": "288e0381",
   "metadata": {
    "scrolled": true
   },
   "outputs": [
    {
     "data": {
      "text/html": [
       "<div>\n",
       "<style scoped>\n",
       "    .dataframe tbody tr th:only-of-type {\n",
       "        vertical-align: middle;\n",
       "    }\n",
       "\n",
       "    .dataframe tbody tr th {\n",
       "        vertical-align: top;\n",
       "    }\n",
       "\n",
       "    .dataframe thead th {\n",
       "        text-align: right;\n",
       "    }\n",
       "</style>\n",
       "<table border=\"1\" class=\"dataframe\">\n",
       "  <thead>\n",
       "    <tr style=\"text-align: right;\">\n",
       "      <th></th>\n",
       "      <th>Item_ID</th>\n",
       "      <th>Item_W</th>\n",
       "      <th>Item_Type</th>\n",
       "      <th>Item_MRP</th>\n",
       "      <th>Outlet_ID</th>\n",
       "      <th>Outlet_Year</th>\n",
       "      <th>Outlet_Size</th>\n",
       "      <th>Outlet_Location_Type</th>\n",
       "      <th>data</th>\n",
       "    </tr>\n",
       "  </thead>\n",
       "  <tbody>\n",
       "    <tr>\n",
       "      <th>0</th>\n",
       "      <td>DRM23</td>\n",
       "      <td>10.156725</td>\n",
       "      <td>Snack Foods</td>\n",
       "      <td>119.319482</td>\n",
       "      <td>OUT013</td>\n",
       "      <td>1999</td>\n",
       "      <td>High</td>\n",
       "      <td>Tier 3</td>\n",
       "      <td>test</td>\n",
       "    </tr>\n",
       "    <tr>\n",
       "      <th>1</th>\n",
       "      <td>FDG47</td>\n",
       "      <td>10.434425</td>\n",
       "      <td>Household</td>\n",
       "      <td>263.600449</td>\n",
       "      <td>OUT018</td>\n",
       "      <td>1987</td>\n",
       "      <td>High</td>\n",
       "      <td>Tier 3</td>\n",
       "      <td>test</td>\n",
       "    </tr>\n",
       "    <tr>\n",
       "      <th>2</th>\n",
       "      <td>FDN21</td>\n",
       "      <td>11.953589</td>\n",
       "      <td>Health and Hygiene</td>\n",
       "      <td>246.286990</td>\n",
       "      <td>OUT018</td>\n",
       "      <td>1997</td>\n",
       "      <td>High</td>\n",
       "      <td>Tier 1</td>\n",
       "      <td>test</td>\n",
       "    </tr>\n",
       "    <tr>\n",
       "      <th>3</th>\n",
       "      <td>FDZ23</td>\n",
       "      <td>14.948546</td>\n",
       "      <td>Dairy</td>\n",
       "      <td>136.200508</td>\n",
       "      <td>OUT046</td>\n",
       "      <td>2004</td>\n",
       "      <td>Medium</td>\n",
       "      <td>Tier 2</td>\n",
       "      <td>test</td>\n",
       "    </tr>\n",
       "    <tr>\n",
       "      <th>4</th>\n",
       "      <td>FDC16</td>\n",
       "      <td>11.080042</td>\n",
       "      <td>Canned</td>\n",
       "      <td>173.145664</td>\n",
       "      <td>OUT018</td>\n",
       "      <td>2009</td>\n",
       "      <td>Medium</td>\n",
       "      <td>Tier 3</td>\n",
       "      <td>test</td>\n",
       "    </tr>\n",
       "    <tr>\n",
       "      <th>...</th>\n",
       "      <td>...</td>\n",
       "      <td>...</td>\n",
       "      <td>...</td>\n",
       "      <td>...</td>\n",
       "      <td>...</td>\n",
       "      <td>...</td>\n",
       "      <td>...</td>\n",
       "      <td>...</td>\n",
       "      <td>...</td>\n",
       "    </tr>\n",
       "    <tr>\n",
       "      <th>37651</th>\n",
       "      <td>FDY27</td>\n",
       "      <td>6.380000</td>\n",
       "      <td>Dairy</td>\n",
       "      <td>178.334400</td>\n",
       "      <td>OUT018</td>\n",
       "      <td>2009</td>\n",
       "      <td>Medium</td>\n",
       "      <td>Tier 3</td>\n",
       "      <td>test</td>\n",
       "    </tr>\n",
       "    <tr>\n",
       "      <th>37652</th>\n",
       "      <td>FDK38</td>\n",
       "      <td>6.650000</td>\n",
       "      <td>Canned</td>\n",
       "      <td>150.073400</td>\n",
       "      <td>OUT018</td>\n",
       "      <td>2009</td>\n",
       "      <td>Medium</td>\n",
       "      <td>Tier 3</td>\n",
       "      <td>test</td>\n",
       "    </tr>\n",
       "    <tr>\n",
       "      <th>37653</th>\n",
       "      <td>DRF01</td>\n",
       "      <td>5.655000</td>\n",
       "      <td>Soft Drinks</td>\n",
       "      <td>147.510200</td>\n",
       "      <td>OUT046</td>\n",
       "      <td>1997</td>\n",
       "      <td>Small</td>\n",
       "      <td>Tier 1</td>\n",
       "      <td>test</td>\n",
       "    </tr>\n",
       "    <tr>\n",
       "      <th>37654</th>\n",
       "      <td>FDR58</td>\n",
       "      <td>6.675000</td>\n",
       "      <td>Snack Foods</td>\n",
       "      <td>92.946200</td>\n",
       "      <td>OUT018</td>\n",
       "      <td>2009</td>\n",
       "      <td>Medium</td>\n",
       "      <td>Tier 3</td>\n",
       "      <td>test</td>\n",
       "    </tr>\n",
       "    <tr>\n",
       "      <th>37655</th>\n",
       "      <td>FDS33</td>\n",
       "      <td>6.670000</td>\n",
       "      <td>Snack Foods</td>\n",
       "      <td>90.551400</td>\n",
       "      <td>OUT018</td>\n",
       "      <td>2009</td>\n",
       "      <td>Medium</td>\n",
       "      <td>Tier 3</td>\n",
       "      <td>test</td>\n",
       "    </tr>\n",
       "  </tbody>\n",
       "</table>\n",
       "<p>37656 rows × 9 columns</p>\n",
       "</div>"
      ],
      "text/plain": [
       "      Item_ID     Item_W           Item_Type    Item_MRP Outlet_ID  \\\n",
       "0       DRM23  10.156725         Snack Foods  119.319482    OUT013   \n",
       "1       FDG47  10.434425           Household  263.600449    OUT018   \n",
       "2       FDN21  11.953589  Health and Hygiene  246.286990    OUT018   \n",
       "3       FDZ23  14.948546               Dairy  136.200508    OUT046   \n",
       "4       FDC16  11.080042              Canned  173.145664    OUT018   \n",
       "...       ...        ...                 ...         ...       ...   \n",
       "37651   FDY27   6.380000               Dairy  178.334400    OUT018   \n",
       "37652   FDK38   6.650000              Canned  150.073400    OUT018   \n",
       "37653   DRF01   5.655000         Soft Drinks  147.510200    OUT046   \n",
       "37654   FDR58   6.675000         Snack Foods   92.946200    OUT018   \n",
       "37655   FDS33   6.670000         Snack Foods   90.551400    OUT018   \n",
       "\n",
       "       Outlet_Year Outlet_Size Outlet_Location_Type  data  \n",
       "0             1999        High               Tier 3  test  \n",
       "1             1987        High               Tier 3  test  \n",
       "2             1997        High               Tier 1  test  \n",
       "3             2004      Medium               Tier 2  test  \n",
       "4             2009      Medium               Tier 3  test  \n",
       "...            ...         ...                  ...   ...  \n",
       "37651         2009      Medium               Tier 3  test  \n",
       "37652         2009      Medium               Tier 3  test  \n",
       "37653         1997       Small               Tier 1  test  \n",
       "37654         2009      Medium               Tier 3  test  \n",
       "37655         2009      Medium               Tier 3  test  \n",
       "\n",
       "[37656 rows x 9 columns]"
      ]
     },
     "execution_count": 8,
     "metadata": {},
     "output_type": "execute_result"
    }
   ],
   "source": [
    "test"
   ]
  },
  {
   "cell_type": "markdown",
   "id": "c655b885",
   "metadata": {},
   "source": [
    "---------------------Descriptive Analytics---------------------\n",
    "---------------------------------"
   ]
  },
  {
   "cell_type": "code",
   "execution_count": 9,
   "id": "6379e357",
   "metadata": {},
   "outputs": [],
   "source": [
    "data=pd.concat([train,test])"
   ]
  },
  {
   "cell_type": "code",
   "execution_count": 10,
   "id": "644e66dd",
   "metadata": {},
   "outputs": [
    {
     "data": {
      "text/html": [
       "<div>\n",
       "<style scoped>\n",
       "    .dataframe tbody tr th:only-of-type {\n",
       "        vertical-align: middle;\n",
       "    }\n",
       "\n",
       "    .dataframe tbody tr th {\n",
       "        vertical-align: top;\n",
       "    }\n",
       "\n",
       "    .dataframe thead th {\n",
       "        text-align: right;\n",
       "    }\n",
       "</style>\n",
       "<table border=\"1\" class=\"dataframe\">\n",
       "  <thead>\n",
       "    <tr style=\"text-align: right;\">\n",
       "      <th></th>\n",
       "      <th>Item_ID</th>\n",
       "      <th>Item_W</th>\n",
       "      <th>Item_Type</th>\n",
       "      <th>Item_MRP</th>\n",
       "      <th>Outlet_ID</th>\n",
       "      <th>Outlet_Year</th>\n",
       "      <th>Outlet_Size</th>\n",
       "      <th>Outlet_Location_Type</th>\n",
       "      <th>Sales</th>\n",
       "      <th>data</th>\n",
       "    </tr>\n",
       "  </thead>\n",
       "  <tbody>\n",
       "    <tr>\n",
       "      <th>0</th>\n",
       "      <td>FDU32</td>\n",
       "      <td>21.027499</td>\n",
       "      <td>Baking Goods</td>\n",
       "      <td>197.352319</td>\n",
       "      <td>OUT046</td>\n",
       "      <td>2004</td>\n",
       "      <td>Small</td>\n",
       "      <td>Tier 2</td>\n",
       "      <td>2689.457781</td>\n",
       "      <td>train</td>\n",
       "    </tr>\n",
       "    <tr>\n",
       "      <th>1</th>\n",
       "      <td>NCT54</td>\n",
       "      <td>21.102371</td>\n",
       "      <td>Meat</td>\n",
       "      <td>148.250214</td>\n",
       "      <td>OUT035</td>\n",
       "      <td>1987</td>\n",
       "      <td>Small</td>\n",
       "      <td>Tier 1</td>\n",
       "      <td>3437.350375</td>\n",
       "      <td>train</td>\n",
       "    </tr>\n",
       "    <tr>\n",
       "      <th>2</th>\n",
       "      <td>FDW08</td>\n",
       "      <td>20.882263</td>\n",
       "      <td>Hard Drinks</td>\n",
       "      <td>205.465010</td>\n",
       "      <td>OUT035</td>\n",
       "      <td>1999</td>\n",
       "      <td>Small</td>\n",
       "      <td>Tier 3</td>\n",
       "      <td>3129.967268</td>\n",
       "      <td>train</td>\n",
       "    </tr>\n",
       "    <tr>\n",
       "      <th>3</th>\n",
       "      <td>FDJ22</td>\n",
       "      <td>21.050435</td>\n",
       "      <td>Starchy Foods</td>\n",
       "      <td>253.417583</td>\n",
       "      <td>OUT046</td>\n",
       "      <td>1996</td>\n",
       "      <td>Small</td>\n",
       "      <td>Tier 1</td>\n",
       "      <td>1306.514376</td>\n",
       "      <td>train</td>\n",
       "    </tr>\n",
       "    <tr>\n",
       "      <th>4</th>\n",
       "      <td>FDF47</td>\n",
       "      <td>21.247876</td>\n",
       "      <td>Baking Goods</td>\n",
       "      <td>240.871039</td>\n",
       "      <td>OUT035</td>\n",
       "      <td>1988</td>\n",
       "      <td>Small</td>\n",
       "      <td>Tier 3</td>\n",
       "      <td>1739.769829</td>\n",
       "      <td>train</td>\n",
       "    </tr>\n",
       "    <tr>\n",
       "      <th>...</th>\n",
       "      <td>...</td>\n",
       "      <td>...</td>\n",
       "      <td>...</td>\n",
       "      <td>...</td>\n",
       "      <td>...</td>\n",
       "      <td>...</td>\n",
       "      <td>...</td>\n",
       "      <td>...</td>\n",
       "      <td>...</td>\n",
       "      <td>...</td>\n",
       "    </tr>\n",
       "    <tr>\n",
       "      <th>37651</th>\n",
       "      <td>FDY27</td>\n",
       "      <td>6.380000</td>\n",
       "      <td>Dairy</td>\n",
       "      <td>178.334400</td>\n",
       "      <td>OUT018</td>\n",
       "      <td>2009</td>\n",
       "      <td>Medium</td>\n",
       "      <td>Tier 3</td>\n",
       "      <td>NaN</td>\n",
       "      <td>test</td>\n",
       "    </tr>\n",
       "    <tr>\n",
       "      <th>37652</th>\n",
       "      <td>FDK38</td>\n",
       "      <td>6.650000</td>\n",
       "      <td>Canned</td>\n",
       "      <td>150.073400</td>\n",
       "      <td>OUT018</td>\n",
       "      <td>2009</td>\n",
       "      <td>Medium</td>\n",
       "      <td>Tier 3</td>\n",
       "      <td>NaN</td>\n",
       "      <td>test</td>\n",
       "    </tr>\n",
       "    <tr>\n",
       "      <th>37653</th>\n",
       "      <td>DRF01</td>\n",
       "      <td>5.655000</td>\n",
       "      <td>Soft Drinks</td>\n",
       "      <td>147.510200</td>\n",
       "      <td>OUT046</td>\n",
       "      <td>1997</td>\n",
       "      <td>Small</td>\n",
       "      <td>Tier 1</td>\n",
       "      <td>NaN</td>\n",
       "      <td>test</td>\n",
       "    </tr>\n",
       "    <tr>\n",
       "      <th>37654</th>\n",
       "      <td>FDR58</td>\n",
       "      <td>6.675000</td>\n",
       "      <td>Snack Foods</td>\n",
       "      <td>92.946200</td>\n",
       "      <td>OUT018</td>\n",
       "      <td>2009</td>\n",
       "      <td>Medium</td>\n",
       "      <td>Tier 3</td>\n",
       "      <td>NaN</td>\n",
       "      <td>test</td>\n",
       "    </tr>\n",
       "    <tr>\n",
       "      <th>37655</th>\n",
       "      <td>FDS33</td>\n",
       "      <td>6.670000</td>\n",
       "      <td>Snack Foods</td>\n",
       "      <td>90.551400</td>\n",
       "      <td>OUT018</td>\n",
       "      <td>2009</td>\n",
       "      <td>Medium</td>\n",
       "      <td>Tier 3</td>\n",
       "      <td>NaN</td>\n",
       "      <td>test</td>\n",
       "    </tr>\n",
       "  </tbody>\n",
       "</table>\n",
       "<p>125520 rows × 10 columns</p>\n",
       "</div>"
      ],
      "text/plain": [
       "      Item_ID     Item_W      Item_Type    Item_MRP Outlet_ID  Outlet_Year  \\\n",
       "0       FDU32  21.027499   Baking Goods  197.352319    OUT046         2004   \n",
       "1       NCT54  21.102371           Meat  148.250214    OUT035         1987   \n",
       "2       FDW08  20.882263    Hard Drinks  205.465010    OUT035         1999   \n",
       "3       FDJ22  21.050435  Starchy Foods  253.417583    OUT046         1996   \n",
       "4       FDF47  21.247876   Baking Goods  240.871039    OUT035         1988   \n",
       "...       ...        ...            ...         ...       ...          ...   \n",
       "37651   FDY27   6.380000          Dairy  178.334400    OUT018         2009   \n",
       "37652   FDK38   6.650000         Canned  150.073400    OUT018         2009   \n",
       "37653   DRF01   5.655000    Soft Drinks  147.510200    OUT046         1997   \n",
       "37654   FDR58   6.675000    Snack Foods   92.946200    OUT018         2009   \n",
       "37655   FDS33   6.670000    Snack Foods   90.551400    OUT018         2009   \n",
       "\n",
       "      Outlet_Size Outlet_Location_Type        Sales   data  \n",
       "0           Small               Tier 2  2689.457781  train  \n",
       "1           Small               Tier 1  3437.350375  train  \n",
       "2           Small               Tier 3  3129.967268  train  \n",
       "3           Small               Tier 1  1306.514376  train  \n",
       "4           Small               Tier 3  1739.769829  train  \n",
       "...           ...                  ...          ...    ...  \n",
       "37651      Medium               Tier 3          NaN   test  \n",
       "37652      Medium               Tier 3          NaN   test  \n",
       "37653       Small               Tier 1          NaN   test  \n",
       "37654      Medium               Tier 3          NaN   test  \n",
       "37655      Medium               Tier 3          NaN   test  \n",
       "\n",
       "[125520 rows x 10 columns]"
      ]
     },
     "execution_count": 10,
     "metadata": {},
     "output_type": "execute_result"
    }
   ],
   "source": [
    "data"
   ]
  },
  {
   "cell_type": "code",
   "execution_count": 11,
   "id": "6d8b9a3d",
   "metadata": {},
   "outputs": [
    {
     "name": "stdout",
     "output_type": "stream",
     "text": [
      "<class 'pandas.core.frame.DataFrame'>\n",
      "Int64Index: 125520 entries, 0 to 37655\n",
      "Data columns (total 10 columns):\n",
      " #   Column                Non-Null Count   Dtype  \n",
      "---  ------                --------------   -----  \n",
      " 0   Item_ID               125520 non-null  object \n",
      " 1   Item_W                125520 non-null  float64\n",
      " 2   Item_Type             125520 non-null  object \n",
      " 3   Item_MRP              125520 non-null  float64\n",
      " 4   Outlet_ID             125520 non-null  object \n",
      " 5   Outlet_Year           125520 non-null  int64  \n",
      " 6   Outlet_Size           125520 non-null  object \n",
      " 7   Outlet_Location_Type  125520 non-null  object \n",
      " 8   Sales                 87864 non-null   float64\n",
      " 9   data                  125520 non-null  object \n",
      "dtypes: float64(3), int64(1), object(6)\n",
      "memory usage: 10.5+ MB\n"
     ]
    }
   ],
   "source": [
    "data.info()"
   ]
  },
  {
   "cell_type": "code",
   "execution_count": 12,
   "id": "881a4d94",
   "metadata": {},
   "outputs": [
    {
     "data": {
      "text/html": [
       "<div>\n",
       "<style scoped>\n",
       "    .dataframe tbody tr th:only-of-type {\n",
       "        vertical-align: middle;\n",
       "    }\n",
       "\n",
       "    .dataframe tbody tr th {\n",
       "        vertical-align: top;\n",
       "    }\n",
       "\n",
       "    .dataframe thead th {\n",
       "        text-align: right;\n",
       "    }\n",
       "</style>\n",
       "<table border=\"1\" class=\"dataframe\">\n",
       "  <thead>\n",
       "    <tr style=\"text-align: right;\">\n",
       "      <th></th>\n",
       "      <th>count</th>\n",
       "      <th>mean</th>\n",
       "      <th>std</th>\n",
       "      <th>min</th>\n",
       "      <th>25%</th>\n",
       "      <th>50%</th>\n",
       "      <th>75%</th>\n",
       "      <th>max</th>\n",
       "    </tr>\n",
       "  </thead>\n",
       "  <tbody>\n",
       "    <tr>\n",
       "      <th>Item_W</th>\n",
       "      <td>125520.0</td>\n",
       "      <td>14.782266</td>\n",
       "      <td>4.427802</td>\n",
       "      <td>4.598804</td>\n",
       "      <td>10.465685</td>\n",
       "      <td>14.553760</td>\n",
       "      <td>19.376857</td>\n",
       "      <td>21.250000</td>\n",
       "    </tr>\n",
       "    <tr>\n",
       "      <th>Item_MRP</th>\n",
       "      <td>125520.0</td>\n",
       "      <td>149.634197</td>\n",
       "      <td>60.185944</td>\n",
       "      <td>32.910015</td>\n",
       "      <td>110.163563</td>\n",
       "      <td>143.892967</td>\n",
       "      <td>196.590199</td>\n",
       "      <td>265.214271</td>\n",
       "    </tr>\n",
       "    <tr>\n",
       "      <th>Outlet_Year</th>\n",
       "      <td>125520.0</td>\n",
       "      <td>1999.919328</td>\n",
       "      <td>6.710208</td>\n",
       "      <td>1987.000000</td>\n",
       "      <td>1997.000000</td>\n",
       "      <td>1999.000000</td>\n",
       "      <td>2004.000000</td>\n",
       "      <td>2009.000000</td>\n",
       "    </tr>\n",
       "    <tr>\n",
       "      <th>Sales</th>\n",
       "      <td>87864.0</td>\n",
       "      <td>1911.842120</td>\n",
       "      <td>1291.386004</td>\n",
       "      <td>-1229.360345</td>\n",
       "      <td>959.249675</td>\n",
       "      <td>1606.307877</td>\n",
       "      <td>2608.057736</td>\n",
       "      <td>10309.283310</td>\n",
       "    </tr>\n",
       "  </tbody>\n",
       "</table>\n",
       "</div>"
      ],
      "text/plain": [
       "                count         mean          std          min          25%  \\\n",
       "Item_W       125520.0    14.782266     4.427802     4.598804    10.465685   \n",
       "Item_MRP     125520.0   149.634197    60.185944    32.910015   110.163563   \n",
       "Outlet_Year  125520.0  1999.919328     6.710208  1987.000000  1997.000000   \n",
       "Sales         87864.0  1911.842120  1291.386004 -1229.360345   959.249675   \n",
       "\n",
       "                     50%          75%           max  \n",
       "Item_W         14.553760    19.376857     21.250000  \n",
       "Item_MRP      143.892967   196.590199    265.214271  \n",
       "Outlet_Year  1999.000000  2004.000000   2009.000000  \n",
       "Sales        1606.307877  2608.057736  10309.283310  "
      ]
     },
     "execution_count": 12,
     "metadata": {},
     "output_type": "execute_result"
    }
   ],
   "source": [
    "data.describe().T"
   ]
  },
  {
   "cell_type": "code",
   "execution_count": 13,
   "id": "a3e33599",
   "metadata": {},
   "outputs": [
    {
     "data": {
      "text/plain": [
       "Item_ID                     0\n",
       "Item_W                      0\n",
       "Item_Type                   0\n",
       "Item_MRP                    0\n",
       "Outlet_ID                   0\n",
       "Outlet_Year                 0\n",
       "Outlet_Size                 0\n",
       "Outlet_Location_Type        0\n",
       "Sales                   37656\n",
       "data                        0\n",
       "dtype: int64"
      ]
     },
     "execution_count": 13,
     "metadata": {},
     "output_type": "execute_result"
    }
   ],
   "source": [
    "data.isna().sum()"
   ]
  },
  {
   "cell_type": "code",
   "execution_count": 14,
   "id": "3ad06a4c",
   "metadata": {},
   "outputs": [
    {
     "data": {
      "text/plain": [
       "0"
      ]
     },
     "execution_count": 14,
     "metadata": {},
     "output_type": "execute_result"
    }
   ],
   "source": [
    "data.duplicated().sum()"
   ]
  },
  {
   "cell_type": "code",
   "execution_count": 15,
   "id": "b2ed05bd",
   "metadata": {},
   "outputs": [
    {
     "data": {
      "text/plain": [
       "Item_ID                    896\n",
       "Item_W                  123907\n",
       "Item_Type                   16\n",
       "Item_MRP                125326\n",
       "Outlet_ID                    5\n",
       "Outlet_Year                 12\n",
       "Outlet_Size                  3\n",
       "Outlet_Location_Type         3\n",
       "Sales                    87760\n",
       "data                         2\n",
       "dtype: int64"
      ]
     },
     "execution_count": 15,
     "metadata": {},
     "output_type": "execute_result"
    }
   ],
   "source": [
    "data.apply(lambda x: x.nunique())"
   ]
  },
  {
   "cell_type": "code",
   "execution_count": 16,
   "id": "31dc816e",
   "metadata": {},
   "outputs": [
    {
     "name": "stdout",
     "output_type": "stream",
     "text": [
      "FDE11    603\n",
      "NCE07    527\n",
      "NCL18    498\n",
      "FDD51    459\n",
      "NCO06    450\n",
      "        ... \n",
      "FDW34      3\n",
      "FDA22      2\n",
      "DRF60      2\n",
      "FDI12      2\n",
      "FDD39      2\n",
      "Name: Item_ID, Length: 896, dtype: int64\n",
      "13.650000    22\n",
      "20.700000    22\n",
      "12.500000    21\n",
      "18.250000    21\n",
      "12.150000    21\n",
      "             ..\n",
      "10.870550     1\n",
      "20.248475     1\n",
      "19.803545     1\n",
      "10.264924     1\n",
      "9.920082      1\n",
      "Name: Item_W, Length: 123907, dtype: int64\n",
      "Fruits and Vegetables    18775\n",
      "Baking Goods             16435\n",
      "Snack Foods              14679\n",
      "Household                10827\n",
      "Frozen Foods              9490\n",
      "Meat                      9412\n",
      "Canned                    7978\n",
      "Soft Drinks               7574\n",
      "Dairy                     7296\n",
      "Health and Hygiene        5268\n",
      "Others                    4233\n",
      "Breads                    3966\n",
      "Hard Drinks               3721\n",
      "Starchy Foods             3401\n",
      "Seafood                   1274\n",
      "Breakfast                 1191\n",
      "Name: Item_Type, dtype: int64\n",
      "146.910200    4\n",
      "196.508400    3\n",
      "261.291000    3\n",
      "170.910600    3\n",
      "126.204600    3\n",
      "             ..\n",
      "235.904331    1\n",
      "152.359727    1\n",
      "71.329205     1\n",
      "170.028138    1\n",
      "52.379451     1\n",
      "Name: Item_MRP, Length: 125326, dtype: int64\n",
      "OUT035    32093\n",
      "OUT046    29022\n",
      "OUT018    25737\n",
      "OUT013    19698\n",
      "OUT049    18970\n",
      "Name: Outlet_ID, dtype: int64\n",
      "1997    23479\n",
      "2004    20921\n",
      "2009    20411\n",
      "1999    18436\n",
      "1987    15074\n",
      "1996     6690\n",
      "2003     6676\n",
      "2008     6206\n",
      "1998     5499\n",
      "1988     2076\n",
      "2007       30\n",
      "2005       22\n",
      "Name: Outlet_Year, dtype: int64\n",
      "Small     62118\n",
      "Medium    41919\n",
      "High      21483\n",
      "Name: Outlet_Size, dtype: int64\n",
      "Tier 1    46397\n",
      "Tier 3    44776\n",
      "Tier 2    34347\n",
      "Name: Outlet_Location_Type, dtype: int64\n",
      "1411.496000    4\n",
      "1054.627200    4\n",
      "1038.648000    4\n",
      "2181.160800    4\n",
      "1779.017600    3\n",
      "              ..\n",
      "1601.220582    1\n",
      "170.152776     1\n",
      "158.779318     1\n",
      "2414.373798    1\n",
      "1382.691153    1\n",
      "Name: Sales, Length: 87760, dtype: int64\n",
      "train    87864\n",
      "test     37656\n",
      "Name: data, dtype: int64\n"
     ]
    },
    {
     "data": {
      "text/plain": [
       "Item_ID                 None\n",
       "Item_W                  None\n",
       "Item_Type               None\n",
       "Item_MRP                None\n",
       "Outlet_ID               None\n",
       "Outlet_Year             None\n",
       "Outlet_Size             None\n",
       "Outlet_Location_Type    None\n",
       "Sales                   None\n",
       "data                    None\n",
       "dtype: object"
      ]
     },
     "execution_count": 16,
     "metadata": {},
     "output_type": "execute_result"
    }
   ],
   "source": [
    "data.apply(lambda x : print(x.value_counts()))"
   ]
  },
  {
   "cell_type": "code",
   "execution_count": 17,
   "id": "0f3e54d4",
   "metadata": {},
   "outputs": [],
   "source": [
    "data[\"Item_ID_group\"] = data[\"Item_ID\"].apply(lambda x : x[0:3])\n",
    "\n"
   ]
  },
  {
   "cell_type": "code",
   "execution_count": 18,
   "id": "e5461113",
   "metadata": {},
   "outputs": [
    {
     "name": "stdout",
     "output_type": "stream",
     "text": [
      "FDX    4874\n",
      "FDY    4471\n",
      "FDS    4442\n",
      "FDZ    4401\n",
      "FDD    4289\n",
      "       ... \n",
      "DRO     207\n",
      "DRZ     153\n",
      "DRQ     118\n",
      "DRP      75\n",
      "NCD      23\n",
      "Name: Item_ID_group, Length: 70, dtype: int64\n"
     ]
    },
    {
     "data": {
      "text/plain": [
       "Item_ID_group    None\n",
       "dtype: object"
      ]
     },
     "execution_count": 18,
     "metadata": {},
     "output_type": "execute_result"
    }
   ],
   "source": [
    "data[[\"Item_ID_group\"]].apply(lambda x : print(x.value_counts()))"
   ]
  },
  {
   "cell_type": "markdown",
   "id": "b2f30ebd",
   "metadata": {},
   "source": [
    "------------------------------Observations-------------------------------\n",
    "----------------------------------------------------------------------------------------\n",
    "1. No Null value <br>\n",
    "2. No Duplicate value <br>\n",
    "3. Check the sales of each item based on Item_Weight <br>\n",
    "4. Check the sales of each item based on Item_Type <br>\n",
    "5. Check the sales of each item based on Item_MRP <br>\n",
    "6. Three types of Outlet id available.Check the sales of each Outlet based on Outlet id <br>\n",
    "7. Three types of Outlet_Size available.Check the sales of each Outlet based on Outlet_Size <br>\n",
    "8. Three types of location available. Check the sales of each Tier <br>"
   ]
  },
  {
   "cell_type": "markdown",
   "id": "b7d14bb0",
   "metadata": {},
   "source": [
    "--------------------------------Exploratory Data Analysis(EDA)-------------------------------------\n",
    "-------------------------------------------------"
   ]
  },
  {
   "cell_type": "code",
   "execution_count": 19,
   "id": "0e6bc18e",
   "metadata": {},
   "outputs": [
    {
     "data": {
      "text/plain": [
       "Item_ID\n",
       "NCM19    3488.126200\n",
       "FDZ16    3161.892837\n",
       "NCG18    3150.204810\n",
       "NCG55    3144.761605\n",
       "FDB20    3094.223540\n",
       "            ...     \n",
       "FDA08    1260.621325\n",
       "FDS23    1241.909179\n",
       "FDT56    1208.822194\n",
       "DRH39    1082.202985\n",
       "FDI12     688.942436\n",
       "Name: Sales, Length: 895, dtype: float64"
      ]
     },
     "execution_count": 19,
     "metadata": {},
     "output_type": "execute_result"
    }
   ],
   "source": [
    "train.groupby([\"Item_ID\"]).Sales.mean().sort_values(ascending=False)"
   ]
  },
  {
   "cell_type": "code",
   "execution_count": 20,
   "id": "9c77cd8a",
   "metadata": {},
   "outputs": [
    {
     "data": {
      "text/html": [
       "<div>\n",
       "<style scoped>\n",
       "    .dataframe tbody tr th:only-of-type {\n",
       "        vertical-align: middle;\n",
       "    }\n",
       "\n",
       "    .dataframe tbody tr th {\n",
       "        vertical-align: top;\n",
       "    }\n",
       "\n",
       "    .dataframe thead th {\n",
       "        text-align: right;\n",
       "    }\n",
       "</style>\n",
       "<table border=\"1\" class=\"dataframe\">\n",
       "  <thead>\n",
       "    <tr style=\"text-align: right;\">\n",
       "      <th></th>\n",
       "      <th>Item_ID</th>\n",
       "      <th>Item_W</th>\n",
       "      <th>Item_Type</th>\n",
       "      <th>Item_MRP</th>\n",
       "      <th>Outlet_ID</th>\n",
       "      <th>Outlet_Year</th>\n",
       "      <th>Outlet_Size</th>\n",
       "      <th>Outlet_Location_Type</th>\n",
       "      <th>Sales</th>\n",
       "      <th>data</th>\n",
       "    </tr>\n",
       "  </thead>\n",
       "  <tbody>\n",
       "    <tr>\n",
       "      <th>0</th>\n",
       "      <td>FDU32</td>\n",
       "      <td>21.027499</td>\n",
       "      <td>Baking Goods</td>\n",
       "      <td>197.352319</td>\n",
       "      <td>OUT046</td>\n",
       "      <td>2004</td>\n",
       "      <td>Small</td>\n",
       "      <td>Tier 2</td>\n",
       "      <td>2689.457781</td>\n",
       "      <td>train</td>\n",
       "    </tr>\n",
       "    <tr>\n",
       "      <th>1</th>\n",
       "      <td>NCT54</td>\n",
       "      <td>21.102371</td>\n",
       "      <td>Meat</td>\n",
       "      <td>148.250214</td>\n",
       "      <td>OUT035</td>\n",
       "      <td>1987</td>\n",
       "      <td>Small</td>\n",
       "      <td>Tier 1</td>\n",
       "      <td>3437.350375</td>\n",
       "      <td>train</td>\n",
       "    </tr>\n",
       "    <tr>\n",
       "      <th>2</th>\n",
       "      <td>FDW08</td>\n",
       "      <td>20.882263</td>\n",
       "      <td>Hard Drinks</td>\n",
       "      <td>205.465010</td>\n",
       "      <td>OUT035</td>\n",
       "      <td>1999</td>\n",
       "      <td>Small</td>\n",
       "      <td>Tier 3</td>\n",
       "      <td>3129.967268</td>\n",
       "      <td>train</td>\n",
       "    </tr>\n",
       "    <tr>\n",
       "      <th>3</th>\n",
       "      <td>FDJ22</td>\n",
       "      <td>21.050435</td>\n",
       "      <td>Starchy Foods</td>\n",
       "      <td>253.417583</td>\n",
       "      <td>OUT046</td>\n",
       "      <td>1996</td>\n",
       "      <td>Small</td>\n",
       "      <td>Tier 1</td>\n",
       "      <td>1306.514376</td>\n",
       "      <td>train</td>\n",
       "    </tr>\n",
       "    <tr>\n",
       "      <th>4</th>\n",
       "      <td>FDF47</td>\n",
       "      <td>21.247876</td>\n",
       "      <td>Baking Goods</td>\n",
       "      <td>240.871039</td>\n",
       "      <td>OUT035</td>\n",
       "      <td>1988</td>\n",
       "      <td>Small</td>\n",
       "      <td>Tier 3</td>\n",
       "      <td>1739.769829</td>\n",
       "      <td>train</td>\n",
       "    </tr>\n",
       "    <tr>\n",
       "      <th>...</th>\n",
       "      <td>...</td>\n",
       "      <td>...</td>\n",
       "      <td>...</td>\n",
       "      <td>...</td>\n",
       "      <td>...</td>\n",
       "      <td>...</td>\n",
       "      <td>...</td>\n",
       "      <td>...</td>\n",
       "      <td>...</td>\n",
       "      <td>...</td>\n",
       "    </tr>\n",
       "    <tr>\n",
       "      <th>87859</th>\n",
       "      <td>FDG24</td>\n",
       "      <td>9.994412</td>\n",
       "      <td>Breakfast</td>\n",
       "      <td>147.389893</td>\n",
       "      <td>OUT035</td>\n",
       "      <td>1987</td>\n",
       "      <td>Medium</td>\n",
       "      <td>Tier 3</td>\n",
       "      <td>4975.646052</td>\n",
       "      <td>train</td>\n",
       "    </tr>\n",
       "    <tr>\n",
       "      <th>87860</th>\n",
       "      <td>FDA32</td>\n",
       "      <td>11.259252</td>\n",
       "      <td>Canned</td>\n",
       "      <td>127.965666</td>\n",
       "      <td>OUT049</td>\n",
       "      <td>1987</td>\n",
       "      <td>Medium</td>\n",
       "      <td>Tier 2</td>\n",
       "      <td>2252.492755</td>\n",
       "      <td>train</td>\n",
       "    </tr>\n",
       "    <tr>\n",
       "      <th>87861</th>\n",
       "      <td>FDM04</td>\n",
       "      <td>11.385812</td>\n",
       "      <td>Household</td>\n",
       "      <td>119.028901</td>\n",
       "      <td>OUT018</td>\n",
       "      <td>1997</td>\n",
       "      <td>Medium</td>\n",
       "      <td>Tier 1</td>\n",
       "      <td>2716.058050</td>\n",
       "      <td>train</td>\n",
       "    </tr>\n",
       "    <tr>\n",
       "      <th>87862</th>\n",
       "      <td>NCS18</td>\n",
       "      <td>18.018028</td>\n",
       "      <td>Household</td>\n",
       "      <td>223.416318</td>\n",
       "      <td>OUT018</td>\n",
       "      <td>1988</td>\n",
       "      <td>Medium</td>\n",
       "      <td>Tier 3</td>\n",
       "      <td>991.857233</td>\n",
       "      <td>train</td>\n",
       "    </tr>\n",
       "    <tr>\n",
       "      <th>87863</th>\n",
       "      <td>FDQ11</td>\n",
       "      <td>17.130290</td>\n",
       "      <td>Snack Foods</td>\n",
       "      <td>143.232048</td>\n",
       "      <td>OUT013</td>\n",
       "      <td>1997</td>\n",
       "      <td>Medium</td>\n",
       "      <td>Tier 3</td>\n",
       "      <td>4260.617470</td>\n",
       "      <td>train</td>\n",
       "    </tr>\n",
       "  </tbody>\n",
       "</table>\n",
       "<p>87864 rows × 10 columns</p>\n",
       "</div>"
      ],
      "text/plain": [
       "      Item_ID     Item_W      Item_Type    Item_MRP Outlet_ID  Outlet_Year  \\\n",
       "0       FDU32  21.027499   Baking Goods  197.352319    OUT046         2004   \n",
       "1       NCT54  21.102371           Meat  148.250214    OUT035         1987   \n",
       "2       FDW08  20.882263    Hard Drinks  205.465010    OUT035         1999   \n",
       "3       FDJ22  21.050435  Starchy Foods  253.417583    OUT046         1996   \n",
       "4       FDF47  21.247876   Baking Goods  240.871039    OUT035         1988   \n",
       "...       ...        ...            ...         ...       ...          ...   \n",
       "87859   FDG24   9.994412      Breakfast  147.389893    OUT035         1987   \n",
       "87860   FDA32  11.259252         Canned  127.965666    OUT049         1987   \n",
       "87861   FDM04  11.385812      Household  119.028901    OUT018         1997   \n",
       "87862   NCS18  18.018028      Household  223.416318    OUT018         1988   \n",
       "87863   FDQ11  17.130290    Snack Foods  143.232048    OUT013         1997   \n",
       "\n",
       "      Outlet_Size Outlet_Location_Type        Sales   data  \n",
       "0           Small               Tier 2  2689.457781  train  \n",
       "1           Small               Tier 1  3437.350375  train  \n",
       "2           Small               Tier 3  3129.967268  train  \n",
       "3           Small               Tier 1  1306.514376  train  \n",
       "4           Small               Tier 3  1739.769829  train  \n",
       "...           ...                  ...          ...    ...  \n",
       "87859      Medium               Tier 3  4975.646052  train  \n",
       "87860      Medium               Tier 2  2252.492755  train  \n",
       "87861      Medium               Tier 1  2716.058050  train  \n",
       "87862      Medium               Tier 3   991.857233  train  \n",
       "87863      Medium               Tier 3  4260.617470  train  \n",
       "\n",
       "[87864 rows x 10 columns]"
      ]
     },
     "execution_count": 20,
     "metadata": {},
     "output_type": "execute_result"
    }
   ],
   "source": [
    "train"
   ]
  },
  {
   "cell_type": "code",
   "execution_count": 21,
   "id": "f484e8e9",
   "metadata": {},
   "outputs": [
    {
     "data": {
      "text/plain": [
       "Item_W\n",
       "14.288374    10309.283310\n",
       "10.609977     9490.959165\n",
       "20.348532     9457.092997\n",
       "21.166525     9351.239250\n",
       "9.037128      9226.330112\n",
       "                 ...     \n",
       "10.397949     -601.320050\n",
       "11.328796     -669.891835\n",
       "10.187308     -762.750511\n",
       "20.166809     -859.248126\n",
       "10.962277    -1229.360345\n",
       "Name: Sales, Length: 87283, dtype: float64"
      ]
     },
     "execution_count": 21,
     "metadata": {},
     "output_type": "execute_result"
    }
   ],
   "source": [
    "train.groupby([\"Item_W\"]).Sales.mean().sort_values(ascending=False)"
   ]
  },
  {
   "cell_type": "code",
   "execution_count": 22,
   "id": "85915264",
   "metadata": {},
   "outputs": [
    {
     "data": {
      "text/plain": [
       "<AxesSubplot:xlabel='Item_W'>"
      ]
     },
     "execution_count": 22,
     "metadata": {},
     "output_type": "execute_result"
    },
    {
     "data": {
      "image/png": "[encoded data removed]",
      "text/plain": [
       "<Figure size 432x288 with 1 Axes>"
      ]
     },
     "metadata": {
      "needs_background": "light"
     },
     "output_type": "display_data"
    }
   ],
   "source": [
    "train.groupby([\"Item_W\"]).Sales.mean().sort_values(ascending=False).head(20).plot(kind='bar')"
   ]
  },
  {
   "cell_type": "code",
   "execution_count": 23,
   "id": "0b85a809",
   "metadata": {},
   "outputs": [
    {
     "data": {
      "text/plain": [
       "Item_Type\n",
       "Breakfast                2027.160568\n",
       "Breads                   2024.497959\n",
       "Soft Drinks              2022.100236\n",
       "Seafood                  2004.039467\n",
       "Hard Drinks              1975.622648\n",
       "Baking Goods             1965.720204\n",
       "Frozen Foods             1942.476254\n",
       "Meat                     1931.644796\n",
       "Canned                   1920.984124\n",
       "Snack Foods              1901.109733\n",
       "Starchy Foods            1896.604218\n",
       "Household                1893.392432\n",
       "Others                   1890.748640\n",
       "Health and Hygiene       1859.953798\n",
       "Fruits and Vegetables    1799.722824\n",
       "Dairy                    1797.610717\n",
       "Name: Sales, dtype: float64"
      ]
     },
     "execution_count": 23,
     "metadata": {},
     "output_type": "execute_result"
    }
   ],
   "source": [
    "train.groupby([\"Item_Type\"]).Sales.mean().sort_values(ascending=False)"
   ]
  },
  {
   "cell_type": "code",
   "execution_count": 24,
   "id": "651d69f8",
   "metadata": {},
   "outputs": [
    {
     "data": {
      "text/plain": [
       "<AxesSubplot:xlabel='Item_Type'>"
      ]
     },
     "execution_count": 24,
     "metadata": {},
     "output_type": "execute_result"
    },
    {
     "data": {
      "image/png": "[encoded data removed]",
      "text/plain": [
       "<Figure size 432x288 with 1 Axes>"
      ]
     },
     "metadata": {
      "needs_background": "light"
     },
     "output_type": "display_data"
    }
   ],
   "source": [
    "train.groupby([\"Item_Type\"]).Sales.mean().sort_values(ascending=False).plot(kind = \"bar\")"
   ]
  },
  {
   "cell_type": "code",
   "execution_count": 25,
   "id": "a84fe430",
   "metadata": {},
   "outputs": [
    {
     "data": {
      "text/plain": [
       "Item_MRP\n",
       "249.247322    10309.283310\n",
       "212.217902     9490.959165\n",
       "110.204488     9457.092997\n",
       "111.597022     9351.239250\n",
       "179.795840     9226.330112\n",
       "                  ...     \n",
       "239.061185     -601.320050\n",
       "135.209264     -669.891835\n",
       "46.658574      -762.750511\n",
       "253.539616     -859.248126\n",
       "152.361247    -1229.360345\n",
       "Name: Sales, Length: 87814, dtype: float64"
      ]
     },
     "execution_count": 25,
     "metadata": {},
     "output_type": "execute_result"
    }
   ],
   "source": [
    "train.groupby([\"Item_MRP\"]).Sales.mean().sort_values(ascending=False)"
   ]
  },
  {
   "cell_type": "code",
   "execution_count": 26,
   "id": "eac8cfc3",
   "metadata": {},
   "outputs": [
    {
     "data": {
      "text/plain": [
       "Item_Type              Item_MRP  \n",
       "Soft Drinks            249.247322    10309.283310\n",
       "Baking Goods           212.217902     9490.959165\n",
       "Dairy                  110.204488     9457.092997\n",
       "Fruits and Vegetables  111.597022     9351.239250\n",
       "Baking Goods           179.795840     9226.330112\n",
       "                                         ...     \n",
       "Dairy                  239.061185     -601.320050\n",
       "Baking Goods           135.209264     -669.891835\n",
       "Fruits and Vegetables  46.658574      -762.750511\n",
       "Baking Goods           253.539616     -859.248126\n",
       "Household              152.361247    -1229.360345\n",
       "Name: Sales, Length: 87847, dtype: float64"
      ]
     },
     "execution_count": 26,
     "metadata": {},
     "output_type": "execute_result"
    }
   ],
   "source": [
    "train.groupby([\"Item_Type\",\"Item_MRP\"]).Sales.mean().sort_values(ascending=False)"
   ]
  },
  {
   "cell_type": "code",
   "execution_count": 27,
   "id": "40f73654",
   "metadata": {},
   "outputs": [
    {
     "data": {
      "text/plain": [
       "Item_Type              Item_MRP    Item_W   \n",
       "Soft Drinks            249.247322  14.288374    10309.283310\n",
       "Baking Goods           212.217902  10.609977     9490.959165\n",
       "Dairy                  110.204488  20.348532     9457.092997\n",
       "Fruits and Vegetables  111.597022  21.166525     9351.239250\n",
       "Baking Goods           179.795840  9.037128      9226.330112\n",
       "                                                    ...     \n",
       "Dairy                  239.061185  10.397949     -601.320050\n",
       "Baking Goods           135.209264  11.328796     -669.891835\n",
       "Fruits and Vegetables  46.658574   10.187308     -762.750511\n",
       "Baking Goods           253.539616  20.166809     -859.248126\n",
       "Household              152.361247  10.962277    -1229.360345\n",
       "Name: Sales, Length: 87851, dtype: float64"
      ]
     },
     "execution_count": 27,
     "metadata": {},
     "output_type": "execute_result"
    }
   ],
   "source": [
    "train.groupby([\"Item_Type\",\"Item_MRP\",\"Item_W\"]).Sales.mean().sort_values(ascending=False)"
   ]
  },
  {
   "cell_type": "code",
   "execution_count": 28,
   "id": "d59e2c42",
   "metadata": {
    "scrolled": true
   },
   "outputs": [
    {
     "data": {
      "text/plain": [
       "Outlet_ID\n",
       "OUT013    2059.436839\n",
       "OUT035    2001.148871\n",
       "OUT049    1958.054154\n",
       "OUT046    1899.631296\n",
       "OUT018    1658.457588\n",
       "Name: Sales, dtype: float64"
      ]
     },
     "execution_count": 28,
     "metadata": {},
     "output_type": "execute_result"
    }
   ],
   "source": [
    "train.groupby([\"Outlet_ID\"]).Sales.mean().sort_values(ascending=False)"
   ]
  },
  {
   "cell_type": "code",
   "execution_count": 29,
   "id": "98ede2be",
   "metadata": {},
   "outputs": [
    {
     "data": {
      "text/plain": [
       "<AxesSubplot:xlabel='Outlet_ID'>"
      ]
     },
     "execution_count": 29,
     "metadata": {},
     "output_type": "execute_result"
    },
    {
     "data": {
      "image/png": "[encoded data removed]",
      "text/plain": [
       "<Figure size 432x288 with 1 Axes>"
      ]
     },
     "metadata": {
      "needs_background": "light"
     },
     "output_type": "display_data"
    }
   ],
   "source": [
    "train.groupby([\"Outlet_ID\"]).Sales.mean().sort_values(ascending=False).plot(kind='bar')"
   ]
  },
  {
   "cell_type": "code",
   "execution_count": 30,
   "id": "53c907a7",
   "metadata": {},
   "outputs": [
    {
     "data": {
      "text/plain": [
       "Outlet_ID\n",
       "OUT035    4.816965e+07\n",
       "OUT046    3.960731e+07\n",
       "OUT018    2.845250e+07\n",
       "OUT049    2.615177e+07\n",
       "OUT013    2.560086e+07\n",
       "Name: Sales, dtype: float64"
      ]
     },
     "execution_count": 30,
     "metadata": {},
     "output_type": "execute_result"
    }
   ],
   "source": [
    "train.groupby([\"Outlet_ID\"]).Sales.sum().sort_values(ascending=False)"
   ]
  },
  {
   "cell_type": "code",
   "execution_count": 31,
   "id": "b6d802fe",
   "metadata": {},
   "outputs": [
    {
     "data": {
      "text/plain": [
       "<AxesSubplot:xlabel='Outlet_ID'>"
      ]
     },
     "execution_count": 31,
     "metadata": {},
     "output_type": "execute_result"
    },
    {
     "data": {
      "image/png": "[encoded data removed]",
      "text/plain": [
       "<Figure size 432x288 with 1 Axes>"
      ]
     },
     "metadata": {
      "needs_background": "light"
     },
     "output_type": "display_data"
    }
   ],
   "source": [
    "train.groupby([\"Outlet_ID\"]).Sales.sum().sort_values(ascending=False).plot(kind='bar')"
   ]
  },
  {
   "cell_type": "code",
   "execution_count": 32,
   "id": "d51748cb",
   "metadata": {
    "scrolled": true
   },
   "outputs": [
    {
     "data": {
      "text/plain": [
       "Outlet_Size\n",
       "High      2042.529716\n",
       "Small     1956.457737\n",
       "Medium    1769.006057\n",
       "Name: Sales, dtype: float64"
      ]
     },
     "execution_count": 32,
     "metadata": {},
     "output_type": "execute_result"
    }
   ],
   "source": [
    "train.groupby([\"Outlet_Size\"]).Sales.mean().sort_values(ascending=False)"
   ]
  },
  {
   "cell_type": "code",
   "execution_count": 33,
   "id": "60c30af3",
   "metadata": {},
   "outputs": [
    {
     "data": {
      "text/plain": [
       "<AxesSubplot:xlabel='Outlet_Size'>"
      ]
     },
     "execution_count": 33,
     "metadata": {},
     "output_type": "execute_result"
    },
    {
     "data": {
      "image/png": "[encoded data removed]",
      "text/plain": [
       "<Figure size 432x288 with 1 Axes>"
      ]
     },
     "metadata": {
      "needs_background": "light"
     },
     "output_type": "display_data"
    }
   ],
   "source": [
    "train.groupby([\"Outlet_Size\"]).Sales.mean().sort_values(ascending=False).plot(kind='bar')"
   ]
  },
  {
   "cell_type": "code",
   "execution_count": 34,
   "id": "6652360c",
   "metadata": {},
   "outputs": [
    {
     "data": {
      "text/plain": [
       "Outlet_Location_Type\n",
       "Tier 2    2005.717834\n",
       "Tier 1    1941.552580\n",
       "Tier 3    1795.882388\n",
       "Name: Sales, dtype: float64"
      ]
     },
     "execution_count": 34,
     "metadata": {},
     "output_type": "execute_result"
    }
   ],
   "source": [
    "train.groupby([\"Outlet_Location_Type\"]).Sales.mean().sort_values(ascending=False)"
   ]
  },
  {
   "cell_type": "code",
   "execution_count": 35,
   "id": "3c433f50",
   "metadata": {},
   "outputs": [
    {
     "data": {
      "text/plain": [
       "<AxesSubplot:xlabel='Outlet_Location_Type'>"
      ]
     },
     "execution_count": 35,
     "metadata": {},
     "output_type": "execute_result"
    },
    {
     "data": {
      "image/png": "[encoded data removed]",
      "text/plain": [
       "<Figure size 432x288 with 1 Axes>"
      ]
     },
     "metadata": {
      "needs_background": "light"
     },
     "output_type": "display_data"
    }
   ],
   "source": [
    "train.groupby([\"Outlet_Location_Type\"]).Sales.mean().sort_values(ascending=False).plot(kind='bar')"
   ]
  },
  {
   "cell_type": "code",
   "execution_count": 36,
   "id": "b46ac87f",
   "metadata": {},
   "outputs": [
    {
     "data": {
      "text/plain": [
       "Outlet_Size  Item_Type            \n",
       "High         Breads                   2155.071529\n",
       "             Breakfast                2137.642148\n",
       "             Canned                   2129.680203\n",
       "             Soft Drinks              2108.053303\n",
       "             Seafood                  2094.382701\n",
       "             Baking Goods             2085.318349\n",
       "             Meat                     2082.213450\n",
       "Small        Breads                   2063.052298\n",
       "High         Hard Drinks              2050.888100\n",
       "             Snack Foods              2042.861089\n",
       "Small        Soft Drinks              2041.434166\n",
       "             Breakfast                2039.148192\n",
       "             Seafood                  2029.688082\n",
       "High         Frozen Foods             2026.008135\n",
       "             Others                   2015.886498\n",
       "             Fruits and Vegetables    1999.515557\n",
       "Medium       Hard Drinks              1985.737114\n",
       "Small        Baking Goods             1984.362625\n",
       "             Canned                   1980.309236\n",
       "Medium       Soft Drinks              1969.108942\n",
       "Small        Frozen Foods             1959.134756\n",
       "             Meat                     1955.859400\n",
       "High         Household                1955.743115\n",
       "             Health and Hygiene       1955.451222\n",
       "Small        Hard Drinks              1953.307712\n",
       "             Snack Foods              1944.714073\n",
       "Medium       Seafood                  1937.122743\n",
       "High         Starchy Foods            1935.067830\n",
       "Small        Fruits and Vegetables    1933.143013\n",
       "             Starchy Foods            1930.003421\n",
       "             Household                1927.332615\n",
       "             Others                   1922.075990\n",
       "Medium       Breakfast                1916.344341\n",
       "Small        Health and Hygiene       1880.907395\n",
       "High         Dairy                    1878.237278\n",
       "Medium       Breads                   1859.193819\n",
       "Small        Dairy                    1850.229963\n",
       "Medium       Starchy Foods            1845.226597\n",
       "             Baking Goods             1831.822226\n",
       "             Frozen Foods             1782.287203\n",
       "             Meat                     1777.702799\n",
       "             Household                1749.617835\n",
       "             Others                   1747.992493\n",
       "             Snack Foods              1744.379620\n",
       "             Health and Hygiene       1739.483315\n",
       "             Canned                   1716.726994\n",
       "             Dairy                    1674.689749\n",
       "             Fruits and Vegetables    1653.636536\n",
       "Name: Sales, dtype: float64"
      ]
     },
     "execution_count": 36,
     "metadata": {},
     "output_type": "execute_result"
    }
   ],
   "source": [
    "train.groupby([\"Outlet_Size\",\"Item_Type\",]).Sales.mean().sort_values(ascending=False)"
   ]
  },
  {
   "cell_type": "code",
   "execution_count": 37,
   "id": "fce091db",
   "metadata": {},
   "outputs": [
    {
     "data": {
      "text/plain": [
       "<AxesSubplot:ylabel='Frequency'>"
      ]
     },
     "execution_count": 37,
     "metadata": {},
     "output_type": "execute_result"
    },
    {
     "data": {
      "image/png": "[encoded data removed]",
      "text/plain": [
       "<Figure size 432x288 with 1 Axes>"
      ]
     },
     "metadata": {
      "needs_background": "light"
     },
     "output_type": "display_data"
    }
   ],
   "source": [
    "train.groupby([\"Outlet_Size\",\"Item_Type\",]).Sales.mean().sort_values(ascending=False).plot(kind='hist')"
   ]
  },
  {
   "cell_type": "code",
   "execution_count": 38,
   "id": "519be325",
   "metadata": {},
   "outputs": [
    {
     "data": {
      "text/plain": [
       "<AxesSubplot:xlabel='Outlet_Size', ylabel='Sales'>"
      ]
     },
     "execution_count": 38,
     "metadata": {},
     "output_type": "execute_result"
    },
    {
     "data": {
      "image/png": "[encoded data removed]",
      "text/plain": [
       "<Figure size 432x288 with 1 Axes>"
      ]
     },
     "metadata": {
      "needs_background": "light"
     },
     "output_type": "display_data"
    }
   ],
   "source": [
    "sns.boxplot(data = train, x = \"Outlet_Size\", y = \"Sales\", hue = \"Item_Type\")"
   ]
  },
  {
   "cell_type": "code",
   "execution_count": 39,
   "id": "15b767a8",
   "metadata": {},
   "outputs": [
    {
     "data": {
      "text/plain": [
       "Outlet_Location_Type  Item_Type            \n",
       "Tier 2                Breakfast                2182.001395\n",
       "Tier 1                Seafood                  2090.553199\n",
       "Tier 2                Hard Drinks              2080.074551\n",
       "                      Seafood                  2077.606260\n",
       "Tier 1                Soft Drinks              2068.353324\n",
       "                      Breads                   2063.073890\n",
       "Tier 2                Breads                   2053.458377\n",
       "                      Soft Drinks              2052.790969\n",
       "Tier 1                Breakfast                2050.577510\n",
       "Tier 2                Meat                     2042.132975\n",
       "                      Baking Goods             2036.945364\n",
       "                      Frozen Foods             2024.131745\n",
       "                      Starchy Foods            2018.770301\n",
       "Tier 1                Canned                   2006.550719\n",
       "Tier 2                Canned                   1995.509643\n",
       "Tier 3                Hard Drinks              1994.705412\n",
       "Tier 2                Others                   1976.188166\n",
       "                      Snack Foods              1972.453054\n",
       "                      Household                1968.836649\n",
       "Tier 3                Breads                   1964.998938\n",
       "                      Soft Drinks              1964.991707\n",
       "Tier 2                Fruits and Vegetables    1962.838094\n",
       "Tier 1                Others                   1953.258495\n",
       "                      Baking Goods             1947.444327\n",
       "                      Starchy Foods            1946.760809\n",
       "                      Snack Foods              1936.176700\n",
       "Tier 2                Health and Hygiene       1932.361027\n",
       "Tier 1                Meat                     1924.230776\n",
       "                      Fruits and Vegetables    1918.463888\n",
       "                      Frozen Foods             1895.119409\n",
       "                      Hard Drinks              1894.630314\n",
       "                      Household                1885.604814\n",
       "Tier 3                Seafood                  1883.426340\n",
       "                      Baking Goods             1883.268342\n",
       "Tier 1                Dairy                    1867.177007\n",
       "                      Health and Hygiene       1854.368702\n",
       "Tier 3                Breakfast                1853.441773\n",
       "Tier 2                Dairy                    1851.710518\n",
       "Tier 3                Frozen Foods             1838.767104\n",
       "                      Household                1836.084773\n",
       "                      Meat                     1831.113463\n",
       "                      Starchy Foods            1796.430955\n",
       "                      Health and Hygiene       1789.710968\n",
       "                      Snack Foods              1784.094886\n",
       "                      Others                   1763.704298\n",
       "                      Canned                   1699.043029\n",
       "                      Dairy                    1687.736239\n",
       "                      Fruits and Vegetables    1663.183539\n",
       "Name: Sales, dtype: float64"
      ]
     },
     "execution_count": 39,
     "metadata": {},
     "output_type": "execute_result"
    }
   ],
   "source": [
    "train.groupby([\"Outlet_Location_Type\",\"Item_Type\",]).Sales.mean().sort_values(ascending=False)"
   ]
  },
  {
   "cell_type": "code",
   "execution_count": 40,
   "id": "e693112a",
   "metadata": {
    "scrolled": true
   },
   "outputs": [
    {
     "data": {
      "text/plain": [
       "<AxesSubplot:xlabel='Outlet_Location_Type', ylabel='Sales'>"
      ]
     },
     "execution_count": 40,
     "metadata": {},
     "output_type": "execute_result"
    },
    {
     "data": {
      "image/png": "[encoded data removed]",
      "text/plain": [
       "<Figure size 432x288 with 1 Axes>"
      ]
     },
     "metadata": {
      "needs_background": "light"
     },
     "output_type": "display_data"
    }
   ],
   "source": [
    "sns.boxplot(data = train, x = \"Outlet_Location_Type\", y = \"Sales\", hue = \"Item_Type\")"
   ]
  },
  {
   "cell_type": "code",
   "execution_count": 41,
   "id": "a7af3fea",
   "metadata": {},
   "outputs": [
    {
     "name": "stdout",
     "output_type": "stream",
     "text": [
      "FDX    4874\n",
      "FDY    4471\n",
      "FDS    4442\n",
      "FDZ    4401\n",
      "FDD    4289\n",
      "       ... \n",
      "DRO     207\n",
      "DRZ     153\n",
      "DRQ     118\n",
      "DRP      75\n",
      "NCD      23\n",
      "Name: Item_ID_group, Length: 70, dtype: int64\n"
     ]
    },
    {
     "data": {
      "text/plain": [
       "Item_ID_group    None\n",
       "dtype: object"
      ]
     },
     "execution_count": 41,
     "metadata": {},
     "output_type": "execute_result"
    }
   ],
   "source": [
    "data[[\"Item_ID_group\"]].apply(lambda x : print(x.value_counts()))"
   ]
  },
  {
   "cell_type": "code",
   "execution_count": 42,
   "id": "61ea5bc3",
   "metadata": {},
   "outputs": [
    {
     "data": {
      "text/plain": [
       "<AxesSubplot:xlabel='Outlet_Size', ylabel='Sales'>"
      ]
     },
     "execution_count": 42,
     "metadata": {},
     "output_type": "execute_result"
    },
    {
     "data": {
      "image/png": "[encoded data removed]",
      "text/plain": [
       "<Figure size 432x288 with 1 Axes>"
      ]
     },
     "metadata": {
      "needs_background": "light"
     },
     "output_type": "display_data"
    }
   ],
   "source": [
    "sns.boxplot(data = data, x = \"Outlet_Size\", y = \"Sales\", hue = \"Item_ID_group\")"
   ]
  },
  {
   "cell_type": "code",
   "execution_count": 43,
   "id": "5f61a8fd",
   "metadata": {},
   "outputs": [
    {
     "data": {
      "text/plain": [
       "<AxesSubplot:xlabel='Outlet_Location_Type', ylabel='Sales'>"
      ]
     },
     "execution_count": 43,
     "metadata": {},
     "output_type": "execute_result"
    },
    {
     "data": {
      "image/png": "[encoded data removed]",
      "text/plain": [
       "<Figure size 432x288 with 1 Axes>"
      ]
     },
     "metadata": {
      "needs_background": "light"
     },
     "output_type": "display_data"
    }
   ],
   "source": [
    "sns.boxplot(data = data, x = \"Outlet_Location_Type\", y = \"Sales\", hue = \"Item_ID_group\")"
   ]
  },
  {
   "cell_type": "code",
   "execution_count": 44,
   "id": "e1bfcaf7",
   "metadata": {
    "scrolled": true
   },
   "outputs": [
    {
     "data": {
      "text/plain": [
       "<AxesSubplot:>"
      ]
     },
     "execution_count": 44,
     "metadata": {},
     "output_type": "execute_result"
    },
    {
     "data": {
      "image/png": "[encoded data removed]",
      "text/plain": [
       "<Figure size 432x288 with 2 Axes>"
      ]
     },
     "metadata": {
      "needs_background": "light"
     },
     "output_type": "display_data"
    }
   ],
   "source": [
    "sns.heatmap(data.select_dtypes(include = np.number).corr(), annot=True)"
   ]
  },
  {
   "cell_type": "markdown",
   "id": "5b6e1ab4",
   "metadata": {},
   "source": [
    "\n",
    "------------------------------Feature Engineering-------------------------------\n",
    "----------------------------------------------------------------------------------------\n",
    "_______________________________________________________________________"
   ]
  },
  {
   "cell_type": "code",
   "execution_count": 45,
   "id": "25f80a91",
   "metadata": {},
   "outputs": [],
   "source": [
    "data[\"Outlet_Age\"]=2021-data[\"Outlet_Year\"]"
   ]
  },
  {
   "cell_type": "code",
   "execution_count": 46,
   "id": "8c021169",
   "metadata": {},
   "outputs": [
    {
     "data": {
      "text/html": [
       "<div>\n",
       "<style scoped>\n",
       "    .dataframe tbody tr th:only-of-type {\n",
       "        vertical-align: middle;\n",
       "    }\n",
       "\n",
       "    .dataframe tbody tr th {\n",
       "        vertical-align: top;\n",
       "    }\n",
       "\n",
       "    .dataframe thead th {\n",
       "        text-align: right;\n",
       "    }\n",
       "</style>\n",
       "<table border=\"1\" class=\"dataframe\">\n",
       "  <thead>\n",
       "    <tr style=\"text-align: right;\">\n",
       "      <th></th>\n",
       "      <th>Item_ID</th>\n",
       "      <th>Item_W</th>\n",
       "      <th>Item_Type</th>\n",
       "      <th>Item_MRP</th>\n",
       "      <th>Outlet_ID</th>\n",
       "      <th>Outlet_Year</th>\n",
       "      <th>Outlet_Size</th>\n",
       "      <th>Outlet_Location_Type</th>\n",
       "      <th>Sales</th>\n",
       "      <th>data</th>\n",
       "      <th>Item_ID_group</th>\n",
       "      <th>Outlet_Age</th>\n",
       "    </tr>\n",
       "  </thead>\n",
       "  <tbody>\n",
       "    <tr>\n",
       "      <th>0</th>\n",
       "      <td>FDU32</td>\n",
       "      <td>21.027499</td>\n",
       "      <td>Baking Goods</td>\n",
       "      <td>197.352319</td>\n",
       "      <td>OUT046</td>\n",
       "      <td>2004</td>\n",
       "      <td>Small</td>\n",
       "      <td>Tier 2</td>\n",
       "      <td>2689.457781</td>\n",
       "      <td>train</td>\n",
       "      <td>FDU</td>\n",
       "      <td>17</td>\n",
       "    </tr>\n",
       "    <tr>\n",
       "      <th>1</th>\n",
       "      <td>NCT54</td>\n",
       "      <td>21.102371</td>\n",
       "      <td>Meat</td>\n",
       "      <td>148.250214</td>\n",
       "      <td>OUT035</td>\n",
       "      <td>1987</td>\n",
       "      <td>Small</td>\n",
       "      <td>Tier 1</td>\n",
       "      <td>3437.350375</td>\n",
       "      <td>train</td>\n",
       "      <td>NCT</td>\n",
       "      <td>34</td>\n",
       "    </tr>\n",
       "    <tr>\n",
       "      <th>2</th>\n",
       "      <td>FDW08</td>\n",
       "      <td>20.882263</td>\n",
       "      <td>Hard Drinks</td>\n",
       "      <td>205.465010</td>\n",
       "      <td>OUT035</td>\n",
       "      <td>1999</td>\n",
       "      <td>Small</td>\n",
       "      <td>Tier 3</td>\n",
       "      <td>3129.967268</td>\n",
       "      <td>train</td>\n",
       "      <td>FDW</td>\n",
       "      <td>22</td>\n",
       "    </tr>\n",
       "    <tr>\n",
       "      <th>3</th>\n",
       "      <td>FDJ22</td>\n",
       "      <td>21.050435</td>\n",
       "      <td>Starchy Foods</td>\n",
       "      <td>253.417583</td>\n",
       "      <td>OUT046</td>\n",
       "      <td>1996</td>\n",
       "      <td>Small</td>\n",
       "      <td>Tier 1</td>\n",
       "      <td>1306.514376</td>\n",
       "      <td>train</td>\n",
       "      <td>FDJ</td>\n",
       "      <td>25</td>\n",
       "    </tr>\n",
       "    <tr>\n",
       "      <th>4</th>\n",
       "      <td>FDF47</td>\n",
       "      <td>21.247876</td>\n",
       "      <td>Baking Goods</td>\n",
       "      <td>240.871039</td>\n",
       "      <td>OUT035</td>\n",
       "      <td>1988</td>\n",
       "      <td>Small</td>\n",
       "      <td>Tier 3</td>\n",
       "      <td>1739.769829</td>\n",
       "      <td>train</td>\n",
       "      <td>FDF</td>\n",
       "      <td>33</td>\n",
       "    </tr>\n",
       "    <tr>\n",
       "      <th>...</th>\n",
       "      <td>...</td>\n",
       "      <td>...</td>\n",
       "      <td>...</td>\n",
       "      <td>...</td>\n",
       "      <td>...</td>\n",
       "      <td>...</td>\n",
       "      <td>...</td>\n",
       "      <td>...</td>\n",
       "      <td>...</td>\n",
       "      <td>...</td>\n",
       "      <td>...</td>\n",
       "      <td>...</td>\n",
       "    </tr>\n",
       "    <tr>\n",
       "      <th>37651</th>\n",
       "      <td>FDY27</td>\n",
       "      <td>6.380000</td>\n",
       "      <td>Dairy</td>\n",
       "      <td>178.334400</td>\n",
       "      <td>OUT018</td>\n",
       "      <td>2009</td>\n",
       "      <td>Medium</td>\n",
       "      <td>Tier 3</td>\n",
       "      <td>NaN</td>\n",
       "      <td>test</td>\n",
       "      <td>FDY</td>\n",
       "      <td>12</td>\n",
       "    </tr>\n",
       "    <tr>\n",
       "      <th>37652</th>\n",
       "      <td>FDK38</td>\n",
       "      <td>6.650000</td>\n",
       "      <td>Canned</td>\n",
       "      <td>150.073400</td>\n",
       "      <td>OUT018</td>\n",
       "      <td>2009</td>\n",
       "      <td>Medium</td>\n",
       "      <td>Tier 3</td>\n",
       "      <td>NaN</td>\n",
       "      <td>test</td>\n",
       "      <td>FDK</td>\n",
       "      <td>12</td>\n",
       "    </tr>\n",
       "    <tr>\n",
       "      <th>37653</th>\n",
       "      <td>DRF01</td>\n",
       "      <td>5.655000</td>\n",
       "      <td>Soft Drinks</td>\n",
       "      <td>147.510200</td>\n",
       "      <td>OUT046</td>\n",
       "      <td>1997</td>\n",
       "      <td>Small</td>\n",
       "      <td>Tier 1</td>\n",
       "      <td>NaN</td>\n",
       "      <td>test</td>\n",
       "      <td>DRF</td>\n",
       "      <td>24</td>\n",
       "    </tr>\n",
       "    <tr>\n",
       "      <th>37654</th>\n",
       "      <td>FDR58</td>\n",
       "      <td>6.675000</td>\n",
       "      <td>Snack Foods</td>\n",
       "      <td>92.946200</td>\n",
       "      <td>OUT018</td>\n",
       "      <td>2009</td>\n",
       "      <td>Medium</td>\n",
       "      <td>Tier 3</td>\n",
       "      <td>NaN</td>\n",
       "      <td>test</td>\n",
       "      <td>FDR</td>\n",
       "      <td>12</td>\n",
       "    </tr>\n",
       "    <tr>\n",
       "      <th>37655</th>\n",
       "      <td>FDS33</td>\n",
       "      <td>6.670000</td>\n",
       "      <td>Snack Foods</td>\n",
       "      <td>90.551400</td>\n",
       "      <td>OUT018</td>\n",
       "      <td>2009</td>\n",
       "      <td>Medium</td>\n",
       "      <td>Tier 3</td>\n",
       "      <td>NaN</td>\n",
       "      <td>test</td>\n",
       "      <td>FDS</td>\n",
       "      <td>12</td>\n",
       "    </tr>\n",
       "  </tbody>\n",
       "</table>\n",
       "<p>125520 rows × 12 columns</p>\n",
       "</div>"
      ],
      "text/plain": [
       "      Item_ID     Item_W      Item_Type    Item_MRP Outlet_ID  Outlet_Year  \\\n",
       "0       FDU32  21.027499   Baking Goods  197.352319    OUT046         2004   \n",
       "1       NCT54  21.102371           Meat  148.250214    OUT035         1987   \n",
       "2       FDW08  20.882263    Hard Drinks  205.465010    OUT035         1999   \n",
       "3       FDJ22  21.050435  Starchy Foods  253.417583    OUT046         1996   \n",
       "4       FDF47  21.247876   Baking Goods  240.871039    OUT035         1988   \n",
       "...       ...        ...            ...         ...       ...          ...   \n",
       "37651   FDY27   6.380000          Dairy  178.334400    OUT018         2009   \n",
       "37652   FDK38   6.650000         Canned  150.073400    OUT018         2009   \n",
       "37653   DRF01   5.655000    Soft Drinks  147.510200    OUT046         1997   \n",
       "37654   FDR58   6.675000    Snack Foods   92.946200    OUT018         2009   \n",
       "37655   FDS33   6.670000    Snack Foods   90.551400    OUT018         2009   \n",
       "\n",
       "      Outlet_Size Outlet_Location_Type        Sales   data Item_ID_group  \\\n",
       "0           Small               Tier 2  2689.457781  train           FDU   \n",
       "1           Small               Tier 1  3437.350375  train           NCT   \n",
       "2           Small               Tier 3  3129.967268  train           FDW   \n",
       "3           Small               Tier 1  1306.514376  train           FDJ   \n",
       "4           Small               Tier 3  1739.769829  train           FDF   \n",
       "...           ...                  ...          ...    ...           ...   \n",
       "37651      Medium               Tier 3          NaN   test           FDY   \n",
       "37652      Medium               Tier 3          NaN   test           FDK   \n",
       "37653       Small               Tier 1          NaN   test           DRF   \n",
       "37654      Medium               Tier 3          NaN   test           FDR   \n",
       "37655      Medium               Tier 3          NaN   test           FDS   \n",
       "\n",
       "       Outlet_Age  \n",
       "0              17  \n",
       "1              34  \n",
       "2              22  \n",
       "3              25  \n",
       "4              33  \n",
       "...           ...  \n",
       "37651          12  \n",
       "37652          12  \n",
       "37653          24  \n",
       "37654          12  \n",
       "37655          12  \n",
       "\n",
       "[125520 rows x 12 columns]"
      ]
     },
     "execution_count": 46,
     "metadata": {},
     "output_type": "execute_result"
    }
   ],
   "source": [
    "data"
   ]
  },
  {
   "cell_type": "code",
   "execution_count": 47,
   "id": "bfcd6aa0",
   "metadata": {},
   "outputs": [],
   "source": [
    "del data[\"Outlet_Year\"]"
   ]
  },
  {
   "cell_type": "code",
   "execution_count": 48,
   "id": "7a7b1256",
   "metadata": {},
   "outputs": [],
   "source": [
    "data = data.reset_index().drop(columns=\"index\")"
   ]
  },
  {
   "cell_type": "code",
   "execution_count": 49,
   "id": "183f847e",
   "metadata": {},
   "outputs": [],
   "source": [
    "data.to_csv(\"data.csv\", index = False)"
   ]
  },
  {
   "cell_type": "code",
   "execution_count": 50,
   "id": "4e03872c",
   "metadata": {},
   "outputs": [
    {
     "data": {
      "text/html": [
       "<div>\n",
       "<style scoped>\n",
       "    .dataframe tbody tr th:only-of-type {\n",
       "        vertical-align: middle;\n",
       "    }\n",
       "\n",
       "    .dataframe tbody tr th {\n",
       "        vertical-align: top;\n",
       "    }\n",
       "\n",
       "    .dataframe thead th {\n",
       "        text-align: right;\n",
       "    }\n",
       "</style>\n",
       "<table border=\"1\" class=\"dataframe\">\n",
       "  <thead>\n",
       "    <tr style=\"text-align: right;\">\n",
       "      <th></th>\n",
       "      <th>Item_ID</th>\n",
       "      <th>Item_W</th>\n",
       "      <th>Item_Type</th>\n",
       "      <th>Item_MRP</th>\n",
       "      <th>Outlet_ID</th>\n",
       "      <th>Outlet_Size</th>\n",
       "      <th>Outlet_Location_Type</th>\n",
       "      <th>Sales</th>\n",
       "      <th>data</th>\n",
       "      <th>Item_ID_group</th>\n",
       "      <th>Outlet_Age</th>\n",
       "    </tr>\n",
       "  </thead>\n",
       "  <tbody>\n",
       "    <tr>\n",
       "      <th>0</th>\n",
       "      <td>FDU32</td>\n",
       "      <td>21.027499</td>\n",
       "      <td>Baking Goods</td>\n",
       "      <td>197.352319</td>\n",
       "      <td>OUT046</td>\n",
       "      <td>Small</td>\n",
       "      <td>Tier 2</td>\n",
       "      <td>2689.457781</td>\n",
       "      <td>train</td>\n",
       "      <td>FDU</td>\n",
       "      <td>17</td>\n",
       "    </tr>\n",
       "    <tr>\n",
       "      <th>1</th>\n",
       "      <td>NCT54</td>\n",
       "      <td>21.102371</td>\n",
       "      <td>Meat</td>\n",
       "      <td>148.250214</td>\n",
       "      <td>OUT035</td>\n",
       "      <td>Small</td>\n",
       "      <td>Tier 1</td>\n",
       "      <td>3437.350375</td>\n",
       "      <td>train</td>\n",
       "      <td>NCT</td>\n",
       "      <td>34</td>\n",
       "    </tr>\n",
       "    <tr>\n",
       "      <th>2</th>\n",
       "      <td>FDW08</td>\n",
       "      <td>20.882263</td>\n",
       "      <td>Hard Drinks</td>\n",
       "      <td>205.465010</td>\n",
       "      <td>OUT035</td>\n",
       "      <td>Small</td>\n",
       "      <td>Tier 3</td>\n",
       "      <td>3129.967268</td>\n",
       "      <td>train</td>\n",
       "      <td>FDW</td>\n",
       "      <td>22</td>\n",
       "    </tr>\n",
       "    <tr>\n",
       "      <th>3</th>\n",
       "      <td>FDJ22</td>\n",
       "      <td>21.050435</td>\n",
       "      <td>Starchy Foods</td>\n",
       "      <td>253.417583</td>\n",
       "      <td>OUT046</td>\n",
       "      <td>Small</td>\n",
       "      <td>Tier 1</td>\n",
       "      <td>1306.514376</td>\n",
       "      <td>train</td>\n",
       "      <td>FDJ</td>\n",
       "      <td>25</td>\n",
       "    </tr>\n",
       "    <tr>\n",
       "      <th>4</th>\n",
       "      <td>FDF47</td>\n",
       "      <td>21.247876</td>\n",
       "      <td>Baking Goods</td>\n",
       "      <td>240.871039</td>\n",
       "      <td>OUT035</td>\n",
       "      <td>Small</td>\n",
       "      <td>Tier 3</td>\n",
       "      <td>1739.769829</td>\n",
       "      <td>train</td>\n",
       "      <td>FDF</td>\n",
       "      <td>33</td>\n",
       "    </tr>\n",
       "    <tr>\n",
       "      <th>...</th>\n",
       "      <td>...</td>\n",
       "      <td>...</td>\n",
       "      <td>...</td>\n",
       "      <td>...</td>\n",
       "      <td>...</td>\n",
       "      <td>...</td>\n",
       "      <td>...</td>\n",
       "      <td>...</td>\n",
       "      <td>...</td>\n",
       "      <td>...</td>\n",
       "      <td>...</td>\n",
       "    </tr>\n",
       "    <tr>\n",
       "      <th>125515</th>\n",
       "      <td>FDY27</td>\n",
       "      <td>6.380000</td>\n",
       "      <td>Dairy</td>\n",
       "      <td>178.334400</td>\n",
       "      <td>OUT018</td>\n",
       "      <td>Medium</td>\n",
       "      <td>Tier 3</td>\n",
       "      <td>NaN</td>\n",
       "      <td>test</td>\n",
       "      <td>FDY</td>\n",
       "      <td>12</td>\n",
       "    </tr>\n",
       "    <tr>\n",
       "      <th>125516</th>\n",
       "      <td>FDK38</td>\n",
       "      <td>6.650000</td>\n",
       "      <td>Canned</td>\n",
       "      <td>150.073400</td>\n",
       "      <td>OUT018</td>\n",
       "      <td>Medium</td>\n",
       "      <td>Tier 3</td>\n",
       "      <td>NaN</td>\n",
       "      <td>test</td>\n",
       "      <td>FDK</td>\n",
       "      <td>12</td>\n",
       "    </tr>\n",
       "    <tr>\n",
       "      <th>125517</th>\n",
       "      <td>DRF01</td>\n",
       "      <td>5.655000</td>\n",
       "      <td>Soft Drinks</td>\n",
       "      <td>147.510200</td>\n",
       "      <td>OUT046</td>\n",
       "      <td>Small</td>\n",
       "      <td>Tier 1</td>\n",
       "      <td>NaN</td>\n",
       "      <td>test</td>\n",
       "      <td>DRF</td>\n",
       "      <td>24</td>\n",
       "    </tr>\n",
       "    <tr>\n",
       "      <th>125518</th>\n",
       "      <td>FDR58</td>\n",
       "      <td>6.675000</td>\n",
       "      <td>Snack Foods</td>\n",
       "      <td>92.946200</td>\n",
       "      <td>OUT018</td>\n",
       "      <td>Medium</td>\n",
       "      <td>Tier 3</td>\n",
       "      <td>NaN</td>\n",
       "      <td>test</td>\n",
       "      <td>FDR</td>\n",
       "      <td>12</td>\n",
       "    </tr>\n",
       "    <tr>\n",
       "      <th>125519</th>\n",
       "      <td>FDS33</td>\n",
       "      <td>6.670000</td>\n",
       "      <td>Snack Foods</td>\n",
       "      <td>90.551400</td>\n",
       "      <td>OUT018</td>\n",
       "      <td>Medium</td>\n",
       "      <td>Tier 3</td>\n",
       "      <td>NaN</td>\n",
       "      <td>test</td>\n",
       "      <td>FDS</td>\n",
       "      <td>12</td>\n",
       "    </tr>\n",
       "  </tbody>\n",
       "</table>\n",
       "<p>125520 rows × 11 columns</p>\n",
       "</div>"
      ],
      "text/plain": [
       "       Item_ID     Item_W      Item_Type    Item_MRP Outlet_ID Outlet_Size  \\\n",
       "0        FDU32  21.027499   Baking Goods  197.352319    OUT046       Small   \n",
       "1        NCT54  21.102371           Meat  148.250214    OUT035       Small   \n",
       "2        FDW08  20.882263    Hard Drinks  205.465010    OUT035       Small   \n",
       "3        FDJ22  21.050435  Starchy Foods  253.417583    OUT046       Small   \n",
       "4        FDF47  21.247876   Baking Goods  240.871039    OUT035       Small   \n",
       "...        ...        ...            ...         ...       ...         ...   \n",
       "125515   FDY27   6.380000          Dairy  178.334400    OUT018      Medium   \n",
       "125516   FDK38   6.650000         Canned  150.073400    OUT018      Medium   \n",
       "125517   DRF01   5.655000    Soft Drinks  147.510200    OUT046       Small   \n",
       "125518   FDR58   6.675000    Snack Foods   92.946200    OUT018      Medium   \n",
       "125519   FDS33   6.670000    Snack Foods   90.551400    OUT018      Medium   \n",
       "\n",
       "       Outlet_Location_Type        Sales   data Item_ID_group  Outlet_Age  \n",
       "0                    Tier 2  2689.457781  train           FDU          17  \n",
       "1                    Tier 1  3437.350375  train           NCT          34  \n",
       "2                    Tier 3  3129.967268  train           FDW          22  \n",
       "3                    Tier 1  1306.514376  train           FDJ          25  \n",
       "4                    Tier 3  1739.769829  train           FDF          33  \n",
       "...                     ...          ...    ...           ...         ...  \n",
       "125515               Tier 3          NaN   test           FDY          12  \n",
       "125516               Tier 3          NaN   test           FDK          12  \n",
       "125517               Tier 1          NaN   test           DRF          24  \n",
       "125518               Tier 3          NaN   test           FDR          12  \n",
       "125519               Tier 3          NaN   test           FDS          12  \n",
       "\n",
       "[125520 rows x 11 columns]"
      ]
     },
     "execution_count": 50,
     "metadata": {},
     "output_type": "execute_result"
    }
   ],
   "source": [
    "data"
   ]
  },
  {
   "cell_type": "code",
   "execution_count": null,
   "id": "bd8769da",
   "metadata": {},
   "outputs": [],
   "source": []
  }
 ],
 "metadata": {
  "kernelspec": {
   "display_name": "Python 3 (ipykernel)",
   "language": "python",
   "name": "python3"
  },
  "language_info": {
   "codemirror_mode": {
    "name": "ipython",
    "version": 3
   },
   "file_extension": ".py",
   "mimetype": "text/x-python",
   "name": "python",
   "nbconvert_exporter": "python",
   "pygments_lexer": "ipython3",
   "version": "3.8.11"
  }
 },
 "nbformat": 4,
 "nbformat_minor": 5
}
